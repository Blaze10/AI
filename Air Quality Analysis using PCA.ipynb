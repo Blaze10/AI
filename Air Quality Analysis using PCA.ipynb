{
 "cells": [
  {
   "cell_type": "markdown",
   "metadata": {
    "id": "aLQcVbGAYtPB"
   },
   "source": [
    "## Importing required libraries"
   ]
  },
  {
   "cell_type": "code",
   "execution_count": null,
   "metadata": {
    "id": "u1TmKCtLZIzx"
   },
   "outputs": [],
   "source": [
    "import pandas as pd\n",
    "import numpy as np\n",
    "import matplotlib.pyplot as plt\n",
    "from sklearn.decomposition import PCA\n",
    "from sklearn import preprocessing"
   ]
  },
  {
   "cell_type": "markdown",
   "metadata": {
    "id": "Keim_ZNcZKlt"
   },
   "source": [
    "## Importing the dataset"
   ]
  },
  {
   "cell_type": "code",
   "execution_count": null,
   "metadata": {
    "colab": {
     "base_uri": "https://localhost:8080/",
     "height": 250
    },
    "id": "ps1CPjNrZPUG",
    "outputId": "bb9bc873-4e47-4e9e-ebb8-751998c060e5"
   },
   "outputs": [
    {
     "data": {
      "text/html": [
       "\n",
       "  <div id=\"df-51354bcf-29f8-4331-9354-6a5052e0d114\">\n",
       "    <div class=\"colab-df-container\">\n",
       "      <div>\n",
       "<style scoped>\n",
       "    .dataframe tbody tr th:only-of-type {\n",
       "        vertical-align: middle;\n",
       "    }\n",
       "\n",
       "    .dataframe tbody tr th {\n",
       "        vertical-align: top;\n",
       "    }\n",
       "\n",
       "    .dataframe thead th {\n",
       "        text-align: right;\n",
       "    }\n",
       "</style>\n",
       "<table border=\"1\" class=\"dataframe\">\n",
       "  <thead>\n",
       "    <tr style=\"text-align: right;\">\n",
       "      <th></th>\n",
       "      <th>Unnamed: 0</th>\n",
       "      <th>AQI</th>\n",
       "      <th>CO</th>\n",
       "      <th>datetime</th>\n",
       "      <th>no2</th>\n",
       "      <th>o3</th>\n",
       "      <th>pm10</th>\n",
       "      <th>pm25</th>\n",
       "      <th>so2</th>\n",
       "      <th>timestamp_local</th>\n",
       "      <th>timestamp_utc</th>\n",
       "      <th>ts</th>\n",
       "    </tr>\n",
       "  </thead>\n",
       "  <tbody>\n",
       "    <tr>\n",
       "      <th>0</th>\n",
       "      <td>0</td>\n",
       "      <td>30.2</td>\n",
       "      <td>198.60268</td>\n",
       "      <td>2022-10-21:18</td>\n",
       "      <td>0.046857</td>\n",
       "      <td>55.789948</td>\n",
       "      <td>10.486722</td>\n",
       "      <td>5.637410</td>\n",
       "      <td>0.387430</td>\n",
       "      <td>2022-10-21T23:00:00</td>\n",
       "      <td>2022-10-21T18:00:00</td>\n",
       "      <td>1666375200</td>\n",
       "    </tr>\n",
       "    <tr>\n",
       "      <th>1</th>\n",
       "      <td>1</td>\n",
       "      <td>28.2</td>\n",
       "      <td>197.60132</td>\n",
       "      <td>2022-10-21:19</td>\n",
       "      <td>0.046456</td>\n",
       "      <td>54.931640</td>\n",
       "      <td>10.719325</td>\n",
       "      <td>4.618169</td>\n",
       "      <td>0.409782</td>\n",
       "      <td>2022-10-22T00:00:00</td>\n",
       "      <td>2022-10-21T19:00:00</td>\n",
       "      <td>1666378800</td>\n",
       "    </tr>\n",
       "    <tr>\n",
       "      <th>2</th>\n",
       "      <td>2</td>\n",
       "      <td>26.6</td>\n",
       "      <td>198.60268</td>\n",
       "      <td>2022-10-21:20</td>\n",
       "      <td>0.046857</td>\n",
       "      <td>54.645540</td>\n",
       "      <td>11.155578</td>\n",
       "      <td>3.520902</td>\n",
       "      <td>0.402331</td>\n",
       "      <td>2022-10-22T01:00:00</td>\n",
       "      <td>2022-10-21T20:00:00</td>\n",
       "      <td>1666382400</td>\n",
       "    </tr>\n",
       "    <tr>\n",
       "      <th>3</th>\n",
       "      <td>3</td>\n",
       "      <td>25.0</td>\n",
       "      <td>201.94054</td>\n",
       "      <td>2022-10-21:21</td>\n",
       "      <td>0.048196</td>\n",
       "      <td>55.074690</td>\n",
       "      <td>11.116206</td>\n",
       "      <td>2.225919</td>\n",
       "      <td>0.376254</td>\n",
       "      <td>2022-10-22T02:00:00</td>\n",
       "      <td>2022-10-21T21:00:00</td>\n",
       "      <td>1666386000</td>\n",
       "    </tr>\n",
       "    <tr>\n",
       "      <th>4</th>\n",
       "      <td>4</td>\n",
       "      <td>26.0</td>\n",
       "      <td>205.27840</td>\n",
       "      <td>2022-10-21:22</td>\n",
       "      <td>0.048865</td>\n",
       "      <td>55.789948</td>\n",
       "      <td>10.405250</td>\n",
       "      <td>1.979471</td>\n",
       "      <td>0.339001</td>\n",
       "      <td>2022-10-22T03:00:00</td>\n",
       "      <td>2022-10-21T22:00:00</td>\n",
       "      <td>1666389600</td>\n",
       "    </tr>\n",
       "  </tbody>\n",
       "</table>\n",
       "</div>\n",
       "      <button class=\"colab-df-convert\" onclick=\"convertToInteractive('df-51354bcf-29f8-4331-9354-6a5052e0d114')\"\n",
       "              title=\"Convert this dataframe to an interactive table.\"\n",
       "              style=\"display:none;\">\n",
       "        \n",
       "  <svg xmlns=\"http://www.w3.org/2000/svg\" height=\"24px\"viewBox=\"0 0 24 24\"\n",
       "       width=\"24px\">\n",
       "    <path d=\"M0 0h24v24H0V0z\" fill=\"none\"/>\n",
       "    <path d=\"M18.56 5.44l.94 2.06.94-2.06 2.06-.94-2.06-.94-.94-2.06-.94 2.06-2.06.94zm-11 1L8.5 8.5l.94-2.06 2.06-.94-2.06-.94L8.5 2.5l-.94 2.06-2.06.94zm10 10l.94 2.06.94-2.06 2.06-.94-2.06-.94-.94-2.06-.94 2.06-2.06.94z\"/><path d=\"M17.41 7.96l-1.37-1.37c-.4-.4-.92-.59-1.43-.59-.52 0-1.04.2-1.43.59L10.3 9.45l-7.72 7.72c-.78.78-.78 2.05 0 2.83L4 21.41c.39.39.9.59 1.41.59.51 0 1.02-.2 1.41-.59l7.78-7.78 2.81-2.81c.8-.78.8-2.07 0-2.86zM5.41 20L4 18.59l7.72-7.72 1.47 1.35L5.41 20z\"/>\n",
       "  </svg>\n",
       "      </button>\n",
       "      \n",
       "  <style>\n",
       "    .colab-df-container {\n",
       "      display:flex;\n",
       "      flex-wrap:wrap;\n",
       "      gap: 12px;\n",
       "    }\n",
       "\n",
       "    .colab-df-convert {\n",
       "      background-color: #E8F0FE;\n",
       "      border: none;\n",
       "      border-radius: 50%;\n",
       "      cursor: pointer;\n",
       "      display: none;\n",
       "      fill: #1967D2;\n",
       "      height: 32px;\n",
       "      padding: 0 0 0 0;\n",
       "      width: 32px;\n",
       "    }\n",
       "\n",
       "    .colab-df-convert:hover {\n",
       "      background-color: #E2EBFA;\n",
       "      box-shadow: 0px 1px 2px rgba(60, 64, 67, 0.3), 0px 1px 3px 1px rgba(60, 64, 67, 0.15);\n",
       "      fill: #174EA6;\n",
       "    }\n",
       "\n",
       "    [theme=dark] .colab-df-convert {\n",
       "      background-color: #3B4455;\n",
       "      fill: #D2E3FC;\n",
       "    }\n",
       "\n",
       "    [theme=dark] .colab-df-convert:hover {\n",
       "      background-color: #434B5C;\n",
       "      box-shadow: 0px 1px 3px 1px rgba(0, 0, 0, 0.15);\n",
       "      filter: drop-shadow(0px 1px 2px rgba(0, 0, 0, 0.3));\n",
       "      fill: #FFFFFF;\n",
       "    }\n",
       "  </style>\n",
       "\n",
       "      <script>\n",
       "        const buttonEl =\n",
       "          document.querySelector('#df-51354bcf-29f8-4331-9354-6a5052e0d114 button.colab-df-convert');\n",
       "        buttonEl.style.display =\n",
       "          google.colab.kernel.accessAllowed ? 'block' : 'none';\n",
       "\n",
       "        async function convertToInteractive(key) {\n",
       "          const element = document.querySelector('#df-51354bcf-29f8-4331-9354-6a5052e0d114');\n",
       "          const dataTable =\n",
       "            await google.colab.kernel.invokeFunction('convertToInteractive',\n",
       "                                                     [key], {});\n",
       "          if (!dataTable) return;\n",
       "\n",
       "          const docLinkHtml = 'Like what you see? Visit the ' +\n",
       "            '<a target=\"_blank\" href=https://colab.research.google.com/notebooks/data_table.ipynb>data table notebook</a>'\n",
       "            + ' to learn more about interactive tables.';\n",
       "          element.innerHTML = '';\n",
       "          dataTable['output_type'] = 'display_data';\n",
       "          await google.colab.output.renderOutput(dataTable, element);\n",
       "          const docLink = document.createElement('div');\n",
       "          docLink.innerHTML = docLinkHtml;\n",
       "          element.appendChild(docLink);\n",
       "        }\n",
       "      </script>\n",
       "    </div>\n",
       "  </div>\n",
       "  "
      ],
      "text/plain": [
       "   Unnamed: 0   AQI         CO       datetime       no2         o3       pm10  \\\n",
       "0           0  30.2  198.60268  2022-10-21:18  0.046857  55.789948  10.486722   \n",
       "1           1  28.2  197.60132  2022-10-21:19  0.046456  54.931640  10.719325   \n",
       "2           2  26.6  198.60268  2022-10-21:20  0.046857  54.645540  11.155578   \n",
       "3           3  25.0  201.94054  2022-10-21:21  0.048196  55.074690  11.116206   \n",
       "4           4  26.0  205.27840  2022-10-21:22  0.048865  55.789948  10.405250   \n",
       "\n",
       "       pm25       so2      timestamp_local        timestamp_utc          ts  \n",
       "0  5.637410  0.387430  2022-10-21T23:00:00  2022-10-21T18:00:00  1666375200  \n",
       "1  4.618169  0.409782  2022-10-22T00:00:00  2022-10-21T19:00:00  1666378800  \n",
       "2  3.520902  0.402331  2022-10-22T01:00:00  2022-10-21T20:00:00  1666382400  \n",
       "3  2.225919  0.376254  2022-10-22T02:00:00  2022-10-21T21:00:00  1666386000  \n",
       "4  1.979471  0.339001  2022-10-22T03:00:00  2022-10-21T22:00:00  1666389600  "
      ]
     },
     "execution_count": 2,
     "metadata": {},
     "output_type": "execute_result"
    }
   ],
   "source": [
    "df = pd.read_csv('NewDelhi_Air_quality.csv')\n",
    "df.head()"
   ]
  },
  {
   "cell_type": "markdown",
   "metadata": {
    "id": "PoEmZfXaZTLW"
   },
   "source": [
    "## Exploring the dataset"
   ]
  },
  {
   "cell_type": "markdown",
   "metadata": {
    "id": "GkTK-dihZoHj"
   },
   "source": [
    "Extracting the 6 Air Quality indicators: `AQI, CO, no2, pm10, pm25 and so2`"
   ]
  },
  {
   "cell_type": "code",
   "execution_count": null,
   "metadata": {
    "colab": {
     "base_uri": "https://localhost:8080/",
     "height": 206
    },
    "id": "sjldbGFiZdmu",
    "outputId": "fdf13e4a-d9df-4323-adfb-bb10ce1ce9a0"
   },
   "outputs": [
    {
     "data": {
      "text/html": [
       "\n",
       "  <div id=\"df-631fdf3e-9948-443b-9f2a-9ef67e421d2d\">\n",
       "    <div class=\"colab-df-container\">\n",
       "      <div>\n",
       "<style scoped>\n",
       "    .dataframe tbody tr th:only-of-type {\n",
       "        vertical-align: middle;\n",
       "    }\n",
       "\n",
       "    .dataframe tbody tr th {\n",
       "        vertical-align: top;\n",
       "    }\n",
       "\n",
       "    .dataframe thead th {\n",
       "        text-align: right;\n",
       "    }\n",
       "</style>\n",
       "<table border=\"1\" class=\"dataframe\">\n",
       "  <thead>\n",
       "    <tr style=\"text-align: right;\">\n",
       "      <th></th>\n",
       "      <th>AQI</th>\n",
       "      <th>CO</th>\n",
       "      <th>no2</th>\n",
       "      <th>pm10</th>\n",
       "      <th>pm25</th>\n",
       "      <th>so2</th>\n",
       "    </tr>\n",
       "  </thead>\n",
       "  <tbody>\n",
       "    <tr>\n",
       "      <th>0</th>\n",
       "      <td>30.2</td>\n",
       "      <td>198.60268</td>\n",
       "      <td>0.046857</td>\n",
       "      <td>10.486722</td>\n",
       "      <td>5.637410</td>\n",
       "      <td>0.387430</td>\n",
       "    </tr>\n",
       "    <tr>\n",
       "      <th>1</th>\n",
       "      <td>28.2</td>\n",
       "      <td>197.60132</td>\n",
       "      <td>0.046456</td>\n",
       "      <td>10.719325</td>\n",
       "      <td>4.618169</td>\n",
       "      <td>0.409782</td>\n",
       "    </tr>\n",
       "    <tr>\n",
       "      <th>2</th>\n",
       "      <td>26.6</td>\n",
       "      <td>198.60268</td>\n",
       "      <td>0.046857</td>\n",
       "      <td>11.155578</td>\n",
       "      <td>3.520902</td>\n",
       "      <td>0.402331</td>\n",
       "    </tr>\n",
       "    <tr>\n",
       "      <th>3</th>\n",
       "      <td>25.0</td>\n",
       "      <td>201.94054</td>\n",
       "      <td>0.048196</td>\n",
       "      <td>11.116206</td>\n",
       "      <td>2.225919</td>\n",
       "      <td>0.376254</td>\n",
       "    </tr>\n",
       "    <tr>\n",
       "      <th>4</th>\n",
       "      <td>26.0</td>\n",
       "      <td>205.27840</td>\n",
       "      <td>0.048865</td>\n",
       "      <td>10.405250</td>\n",
       "      <td>1.979471</td>\n",
       "      <td>0.339001</td>\n",
       "    </tr>\n",
       "  </tbody>\n",
       "</table>\n",
       "</div>\n",
       "      <button class=\"colab-df-convert\" onclick=\"convertToInteractive('df-631fdf3e-9948-443b-9f2a-9ef67e421d2d')\"\n",
       "              title=\"Convert this dataframe to an interactive table.\"\n",
       "              style=\"display:none;\">\n",
       "        \n",
       "  <svg xmlns=\"http://www.w3.org/2000/svg\" height=\"24px\"viewBox=\"0 0 24 24\"\n",
       "       width=\"24px\">\n",
       "    <path d=\"M0 0h24v24H0V0z\" fill=\"none\"/>\n",
       "    <path d=\"M18.56 5.44l.94 2.06.94-2.06 2.06-.94-2.06-.94-.94-2.06-.94 2.06-2.06.94zm-11 1L8.5 8.5l.94-2.06 2.06-.94-2.06-.94L8.5 2.5l-.94 2.06-2.06.94zm10 10l.94 2.06.94-2.06 2.06-.94-2.06-.94-.94-2.06-.94 2.06-2.06.94z\"/><path d=\"M17.41 7.96l-1.37-1.37c-.4-.4-.92-.59-1.43-.59-.52 0-1.04.2-1.43.59L10.3 9.45l-7.72 7.72c-.78.78-.78 2.05 0 2.83L4 21.41c.39.39.9.59 1.41.59.51 0 1.02-.2 1.41-.59l7.78-7.78 2.81-2.81c.8-.78.8-2.07 0-2.86zM5.41 20L4 18.59l7.72-7.72 1.47 1.35L5.41 20z\"/>\n",
       "  </svg>\n",
       "      </button>\n",
       "      \n",
       "  <style>\n",
       "    .colab-df-container {\n",
       "      display:flex;\n",
       "      flex-wrap:wrap;\n",
       "      gap: 12px;\n",
       "    }\n",
       "\n",
       "    .colab-df-convert {\n",
       "      background-color: #E8F0FE;\n",
       "      border: none;\n",
       "      border-radius: 50%;\n",
       "      cursor: pointer;\n",
       "      display: none;\n",
       "      fill: #1967D2;\n",
       "      height: 32px;\n",
       "      padding: 0 0 0 0;\n",
       "      width: 32px;\n",
       "    }\n",
       "\n",
       "    .colab-df-convert:hover {\n",
       "      background-color: #E2EBFA;\n",
       "      box-shadow: 0px 1px 2px rgba(60, 64, 67, 0.3), 0px 1px 3px 1px rgba(60, 64, 67, 0.15);\n",
       "      fill: #174EA6;\n",
       "    }\n",
       "\n",
       "    [theme=dark] .colab-df-convert {\n",
       "      background-color: #3B4455;\n",
       "      fill: #D2E3FC;\n",
       "    }\n",
       "\n",
       "    [theme=dark] .colab-df-convert:hover {\n",
       "      background-color: #434B5C;\n",
       "      box-shadow: 0px 1px 3px 1px rgba(0, 0, 0, 0.15);\n",
       "      filter: drop-shadow(0px 1px 2px rgba(0, 0, 0, 0.3));\n",
       "      fill: #FFFFFF;\n",
       "    }\n",
       "  </style>\n",
       "\n",
       "      <script>\n",
       "        const buttonEl =\n",
       "          document.querySelector('#df-631fdf3e-9948-443b-9f2a-9ef67e421d2d button.colab-df-convert');\n",
       "        buttonEl.style.display =\n",
       "          google.colab.kernel.accessAllowed ? 'block' : 'none';\n",
       "\n",
       "        async function convertToInteractive(key) {\n",
       "          const element = document.querySelector('#df-631fdf3e-9948-443b-9f2a-9ef67e421d2d');\n",
       "          const dataTable =\n",
       "            await google.colab.kernel.invokeFunction('convertToInteractive',\n",
       "                                                     [key], {});\n",
       "          if (!dataTable) return;\n",
       "\n",
       "          const docLinkHtml = 'Like what you see? Visit the ' +\n",
       "            '<a target=\"_blank\" href=https://colab.research.google.com/notebooks/data_table.ipynb>data table notebook</a>'\n",
       "            + ' to learn more about interactive tables.';\n",
       "          element.innerHTML = '';\n",
       "          dataTable['output_type'] = 'display_data';\n",
       "          await google.colab.output.renderOutput(dataTable, element);\n",
       "          const docLink = document.createElement('div');\n",
       "          docLink.innerHTML = docLinkHtml;\n",
       "          element.appendChild(docLink);\n",
       "        }\n",
       "      </script>\n",
       "    </div>\n",
       "  </div>\n",
       "  "
      ],
      "text/plain": [
       "    AQI         CO       no2       pm10      pm25       so2\n",
       "0  30.2  198.60268  0.046857  10.486722  5.637410  0.387430\n",
       "1  28.2  197.60132  0.046456  10.719325  4.618169  0.409782\n",
       "2  26.6  198.60268  0.046857  11.155578  3.520902  0.402331\n",
       "3  25.0  201.94054  0.048196  11.116206  2.225919  0.376254\n",
       "4  26.0  205.27840  0.048865  10.405250  1.979471  0.339001"
      ]
     },
     "execution_count": 5,
     "metadata": {},
     "output_type": "execute_result"
    }
   ],
   "source": [
    "df_subset = df[['AQI', 'CO', 'no2', 'pm10', 'pm25', 'so2']]\n",
    "df_subset.head()"
   ]
  },
  {
   "cell_type": "code",
   "execution_count": null,
   "metadata": {
    "colab": {
     "base_uri": "https://localhost:8080/",
     "height": 300
    },
    "id": "nvMhJO_LZsZ_",
    "outputId": "e0ed168a-76a9-48a7-accf-0805666cb06c"
   },
   "outputs": [
    {
     "data": {
      "text/html": [
       "\n",
       "  <div id=\"df-f7a5b420-ccc1-48e3-b574-0defa5907739\">\n",
       "    <div class=\"colab-df-container\">\n",
       "      <div>\n",
       "<style scoped>\n",
       "    .dataframe tbody tr th:only-of-type {\n",
       "        vertical-align: middle;\n",
       "    }\n",
       "\n",
       "    .dataframe tbody tr th {\n",
       "        vertical-align: top;\n",
       "    }\n",
       "\n",
       "    .dataframe thead th {\n",
       "        text-align: right;\n",
       "    }\n",
       "</style>\n",
       "<table border=\"1\" class=\"dataframe\">\n",
       "  <thead>\n",
       "    <tr style=\"text-align: right;\">\n",
       "      <th></th>\n",
       "      <th>AQI</th>\n",
       "      <th>CO</th>\n",
       "      <th>no2</th>\n",
       "      <th>pm10</th>\n",
       "      <th>pm25</th>\n",
       "      <th>so2</th>\n",
       "    </tr>\n",
       "  </thead>\n",
       "  <tbody>\n",
       "    <tr>\n",
       "      <th>count</th>\n",
       "      <td>72.000000</td>\n",
       "      <td>72.000000</td>\n",
       "      <td>72.000000</td>\n",
       "      <td>72.000000</td>\n",
       "      <td>72.000000</td>\n",
       "      <td>72.000000</td>\n",
       "    </tr>\n",
       "    <tr>\n",
       "      <th>mean</th>\n",
       "      <td>26.180556</td>\n",
       "      <td>200.095443</td>\n",
       "      <td>0.041996</td>\n",
       "      <td>9.115038</td>\n",
       "      <td>2.295406</td>\n",
       "      <td>0.363423</td>\n",
       "    </tr>\n",
       "    <tr>\n",
       "      <th>std</th>\n",
       "      <td>3.054650</td>\n",
       "      <td>4.515537</td>\n",
       "      <td>0.010940</td>\n",
       "      <td>1.531785</td>\n",
       "      <td>0.656507</td>\n",
       "      <td>0.044664</td>\n",
       "    </tr>\n",
       "    <tr>\n",
       "      <th>min</th>\n",
       "      <td>19.000000</td>\n",
       "      <td>191.926960</td>\n",
       "      <td>0.015563</td>\n",
       "      <td>6.686746</td>\n",
       "      <td>1.633373</td>\n",
       "      <td>0.283122</td>\n",
       "    </tr>\n",
       "    <tr>\n",
       "      <th>25%</th>\n",
       "      <td>25.000000</td>\n",
       "      <td>197.434427</td>\n",
       "      <td>0.037988</td>\n",
       "      <td>7.864763</td>\n",
       "      <td>1.828729</td>\n",
       "      <td>0.320375</td>\n",
       "    </tr>\n",
       "    <tr>\n",
       "      <th>50%</th>\n",
       "      <td>27.000000</td>\n",
       "      <td>200.271600</td>\n",
       "      <td>0.045518</td>\n",
       "      <td>8.914176</td>\n",
       "      <td>2.201811</td>\n",
       "      <td>0.372529</td>\n",
       "    </tr>\n",
       "    <tr>\n",
       "      <th>75%</th>\n",
       "      <td>28.000000</td>\n",
       "      <td>203.609470</td>\n",
       "      <td>0.050204</td>\n",
       "      <td>10.274836</td>\n",
       "      <td>2.522210</td>\n",
       "      <td>0.395812</td>\n",
       "    </tr>\n",
       "    <tr>\n",
       "      <th>max</th>\n",
       "      <td>32.000000</td>\n",
       "      <td>208.616260</td>\n",
       "      <td>0.060914</td>\n",
       "      <td>12.845977</td>\n",
       "      <td>5.637410</td>\n",
       "      <td>0.454485</td>\n",
       "    </tr>\n",
       "  </tbody>\n",
       "</table>\n",
       "</div>\n",
       "      <button class=\"colab-df-convert\" onclick=\"convertToInteractive('df-f7a5b420-ccc1-48e3-b574-0defa5907739')\"\n",
       "              title=\"Convert this dataframe to an interactive table.\"\n",
       "              style=\"display:none;\">\n",
       "        \n",
       "  <svg xmlns=\"http://www.w3.org/2000/svg\" height=\"24px\"viewBox=\"0 0 24 24\"\n",
       "       width=\"24px\">\n",
       "    <path d=\"M0 0h24v24H0V0z\" fill=\"none\"/>\n",
       "    <path d=\"M18.56 5.44l.94 2.06.94-2.06 2.06-.94-2.06-.94-.94-2.06-.94 2.06-2.06.94zm-11 1L8.5 8.5l.94-2.06 2.06-.94-2.06-.94L8.5 2.5l-.94 2.06-2.06.94zm10 10l.94 2.06.94-2.06 2.06-.94-2.06-.94-.94-2.06-.94 2.06-2.06.94z\"/><path d=\"M17.41 7.96l-1.37-1.37c-.4-.4-.92-.59-1.43-.59-.52 0-1.04.2-1.43.59L10.3 9.45l-7.72 7.72c-.78.78-.78 2.05 0 2.83L4 21.41c.39.39.9.59 1.41.59.51 0 1.02-.2 1.41-.59l7.78-7.78 2.81-2.81c.8-.78.8-2.07 0-2.86zM5.41 20L4 18.59l7.72-7.72 1.47 1.35L5.41 20z\"/>\n",
       "  </svg>\n",
       "      </button>\n",
       "      \n",
       "  <style>\n",
       "    .colab-df-container {\n",
       "      display:flex;\n",
       "      flex-wrap:wrap;\n",
       "      gap: 12px;\n",
       "    }\n",
       "\n",
       "    .colab-df-convert {\n",
       "      background-color: #E8F0FE;\n",
       "      border: none;\n",
       "      border-radius: 50%;\n",
       "      cursor: pointer;\n",
       "      display: none;\n",
       "      fill: #1967D2;\n",
       "      height: 32px;\n",
       "      padding: 0 0 0 0;\n",
       "      width: 32px;\n",
       "    }\n",
       "\n",
       "    .colab-df-convert:hover {\n",
       "      background-color: #E2EBFA;\n",
       "      box-shadow: 0px 1px 2px rgba(60, 64, 67, 0.3), 0px 1px 3px 1px rgba(60, 64, 67, 0.15);\n",
       "      fill: #174EA6;\n",
       "    }\n",
       "\n",
       "    [theme=dark] .colab-df-convert {\n",
       "      background-color: #3B4455;\n",
       "      fill: #D2E3FC;\n",
       "    }\n",
       "\n",
       "    [theme=dark] .colab-df-convert:hover {\n",
       "      background-color: #434B5C;\n",
       "      box-shadow: 0px 1px 3px 1px rgba(0, 0, 0, 0.15);\n",
       "      filter: drop-shadow(0px 1px 2px rgba(0, 0, 0, 0.3));\n",
       "      fill: #FFFFFF;\n",
       "    }\n",
       "  </style>\n",
       "\n",
       "      <script>\n",
       "        const buttonEl =\n",
       "          document.querySelector('#df-f7a5b420-ccc1-48e3-b574-0defa5907739 button.colab-df-convert');\n",
       "        buttonEl.style.display =\n",
       "          google.colab.kernel.accessAllowed ? 'block' : 'none';\n",
       "\n",
       "        async function convertToInteractive(key) {\n",
       "          const element = document.querySelector('#df-f7a5b420-ccc1-48e3-b574-0defa5907739');\n",
       "          const dataTable =\n",
       "            await google.colab.kernel.invokeFunction('convertToInteractive',\n",
       "                                                     [key], {});\n",
       "          if (!dataTable) return;\n",
       "\n",
       "          const docLinkHtml = 'Like what you see? Visit the ' +\n",
       "            '<a target=\"_blank\" href=https://colab.research.google.com/notebooks/data_table.ipynb>data table notebook</a>'\n",
       "            + ' to learn more about interactive tables.';\n",
       "          element.innerHTML = '';\n",
       "          dataTable['output_type'] = 'display_data';\n",
       "          await google.colab.output.renderOutput(dataTable, element);\n",
       "          const docLink = document.createElement('div');\n",
       "          docLink.innerHTML = docLinkHtml;\n",
       "          element.appendChild(docLink);\n",
       "        }\n",
       "      </script>\n",
       "    </div>\n",
       "  </div>\n",
       "  "
      ],
      "text/plain": [
       "             AQI          CO        no2       pm10       pm25        so2\n",
       "count  72.000000   72.000000  72.000000  72.000000  72.000000  72.000000\n",
       "mean   26.180556  200.095443   0.041996   9.115038   2.295406   0.363423\n",
       "std     3.054650    4.515537   0.010940   1.531785   0.656507   0.044664\n",
       "min    19.000000  191.926960   0.015563   6.686746   1.633373   0.283122\n",
       "25%    25.000000  197.434427   0.037988   7.864763   1.828729   0.320375\n",
       "50%    27.000000  200.271600   0.045518   8.914176   2.201811   0.372529\n",
       "75%    28.000000  203.609470   0.050204  10.274836   2.522210   0.395812\n",
       "max    32.000000  208.616260   0.060914  12.845977   5.637410   0.454485"
      ]
     },
     "execution_count": 6,
     "metadata": {},
     "output_type": "execute_result"
    }
   ],
   "source": [
    "df_subset.describe()"
   ]
  },
  {
   "cell_type": "markdown",
   "metadata": {
    "id": "PcFx2SqQZxHa"
   },
   "source": [
    "Checking for any null values"
   ]
  },
  {
   "cell_type": "code",
   "execution_count": null,
   "metadata": {
    "colab": {
     "base_uri": "https://localhost:8080/"
    },
    "id": "Ku35Ar4-Z4Hc",
    "outputId": "50301ea6-6d68-44c9-e565-485f9bfdac0b"
   },
   "outputs": [
    {
     "name": "stdout",
     "output_type": "stream",
     "text": [
      "<class 'pandas.core.frame.DataFrame'>\n",
      "RangeIndex: 72 entries, 0 to 71\n",
      "Data columns (total 6 columns):\n",
      " #   Column  Non-Null Count  Dtype  \n",
      "---  ------  --------------  -----  \n",
      " 0   AQI     72 non-null     float64\n",
      " 1   CO      72 non-null     float64\n",
      " 2   no2     72 non-null     float64\n",
      " 3   pm10    72 non-null     float64\n",
      " 4   pm25    72 non-null     float64\n",
      " 5   so2     72 non-null     float64\n",
      "dtypes: float64(6)\n",
      "memory usage: 3.5 KB\n"
     ]
    }
   ],
   "source": [
    "df_subset.info()"
   ]
  },
  {
   "cell_type": "code",
   "execution_count": null,
   "metadata": {
    "colab": {
     "base_uri": "https://localhost:8080/"
    },
    "id": "C1g306KCZ7nj",
    "outputId": "09322091-6705-4086-c1a7-cf642bc426d0"
   },
   "outputs": [
    {
     "data": {
      "text/plain": [
       "AQI     0\n",
       "CO      0\n",
       "no2     0\n",
       "pm10    0\n",
       "pm25    0\n",
       "so2     0\n",
       "dtype: int64"
      ]
     },
     "execution_count": 10,
     "metadata": {},
     "output_type": "execute_result"
    }
   ],
   "source": [
    "df_subset.isna().sum()"
   ]
  },
  {
   "cell_type": "markdown",
   "metadata": {
    "id": "Gy1KT8O2bNS5"
   },
   "source": [
    "One dimensionality reduction method that could be used for this task is **Principal Component Analysis (PCA)**. PCA is a linear dimensionality reduction technique that finds the principal components of the data, which are linear combinations of the original features that capture the most variance in the data."
   ]
  },
  {
   "cell_type": "markdown",
   "metadata": {
    "id": "NADFlWDiZ9FX"
   },
   "source": [
    "## Data preprocessing\n",
    "\n",
    "As PCA is sensitive to the scale of the features, scaling the data is important."
   ]
  },
  {
   "cell_type": "code",
   "execution_count": null,
   "metadata": {
    "colab": {
     "base_uri": "https://localhost:8080/"
    },
    "id": "bM_HR8DXaC8n",
    "outputId": "55ec0d61-d50b-447b-e5e0-9341e8699fa3"
   },
   "outputs": [
    {
     "data": {
      "text/plain": [
       "array([[ 1.3250788 , -0.33290371,  0.44745779,  0.90176509,  5.12630837,\n",
       "         0.54128854],\n",
       "       [ 0.6657445 , -0.5562187 ,  0.41048718,  1.0546817 ,  3.56289231,\n",
       "         1.0452464 ],\n",
       "       [ 0.13827705, -0.33290371,  0.44745779,  1.34148081,  1.8797915 ,\n",
       "         0.87726037],\n",
       "       [-0.38919039,  0.4114781 ,  0.57069373,  1.31559708, -0.10658673,\n",
       "         0.28930927],\n",
       "       [-0.05952324,  1.15585991,  0.63231188,  0.8482042 , -0.48461352,\n",
       "        -0.55062087]])"
      ]
     },
     "execution_count": 20,
     "metadata": {},
     "output_type": "execute_result"
    }
   ],
   "source": [
    "columns = df_subset.columns # Storing this in a variable for plotting purposes later\n",
    "sc = preprocessing.StandardScaler()\n",
    "scaled_data = sc.fit_transform(df_subset)\n",
    "scaled_data[:5]"
   ]
  },
  {
   "cell_type": "markdown",
   "metadata": {
    "id": "zkmiI6UibzC8"
   },
   "source": [
    "## Applying PCA"
   ]
  },
  {
   "cell_type": "markdown",
   "metadata": {
    "id": "C-_amobqeBJO"
   },
   "source": [
    "Checking the explained variance ratio by fitting PCA to data using the same number of variables"
   ]
  },
  {
   "cell_type": "code",
   "execution_count": null,
   "metadata": {
    "colab": {
     "base_uri": "https://localhost:8080/"
    },
    "id": "1_6NBWYgeM3R",
    "outputId": "0fa79052-740c-41f8-dd33-bcd93a8e8454"
   },
   "outputs": [
    {
     "data": {
      "text/plain": [
       "(72, 6)"
      ]
     },
     "execution_count": 21,
     "metadata": {},
     "output_type": "execute_result"
    }
   ],
   "source": [
    "scaled_data.shape"
   ]
  },
  {
   "cell_type": "markdown",
   "metadata": {
    "id": "o43xWRhpePd0"
   },
   "source": [
    "We have total 6 columns in the dataset"
   ]
  },
  {
   "cell_type": "code",
   "execution_count": null,
   "metadata": {
    "colab": {
     "base_uri": "https://localhost:8080/"
    },
    "id": "bYR-OdRHeYgr",
    "outputId": "a16b1ca7-6904-409f-8797-d99d6e3b0b9f"
   },
   "outputs": [
    {
     "data": {
      "text/plain": [
       "PCA(n_components=6)"
      ]
     },
     "execution_count": 22,
     "metadata": {},
     "output_type": "execute_result"
    }
   ],
   "source": [
    "pca = PCA(n_components=6)\n",
    "pca.fit(scaled_data)"
   ]
  },
  {
   "cell_type": "markdown",
   "metadata": {
    "id": "qpf2njJ-edIy"
   },
   "source": [
    "Plotting the explained variance ratio"
   ]
  },
  {
   "cell_type": "code",
   "execution_count": null,
   "metadata": {
    "colab": {
     "base_uri": "https://localhost:8080/",
     "height": 513
    },
    "id": "RVofhyJleh4p",
    "outputId": "764a4084-6148-4105-d9da-e4f033969bf7"
   },
   "outputs": [
    {
     "data": {
      "image/png": "[encoded data removed]",
      "text/plain": [
       "<Figure size 864x576 with 1 Axes>"
      ]
     },
     "metadata": {
      "needs_background": "light"
     },
     "output_type": "display_data"
    }
   ],
   "source": [
    "plt.figure(figsize=(12,8))\n",
    "plt.bar(columns, pca.explained_variance_ratio_ , color='orange')\n",
    "plt.title('PCA visualized')\n",
    "plt.xlabel('Principal Component')\n",
    "plt.ylabel('Explained Variance Ratio')\n",
    "plt.show()"
   ]
  },
  {
   "cell_type": "markdown",
   "metadata": {
    "id": "fLdE1vY7cU9l"
   },
   "source": [
    "- The first column explains almost 60% of the vairance.\n",
    "\n",
    "- Verifying the colleague's claims by reducing the data to two dimensions and checking if it explains the majority of the variance in the data."
   ]
  },
  {
   "cell_type": "code",
   "execution_count": null,
   "metadata": {
    "colab": {
     "base_uri": "https://localhost:8080/"
    },
    "id": "RhtfCPQyb2dH",
    "outputId": "83bc0ebc-c8ea-4166-c03e-8059230404af"
   },
   "outputs": [
    {
     "data": {
      "text/plain": [
       "PCA(n_components=2)"
      ]
     },
     "execution_count": 26,
     "metadata": {},
     "output_type": "execute_result"
    }
   ],
   "source": [
    "pca = PCA(n_components=2)\n",
    "pca.fit(scaled_data)"
   ]
  },
  {
   "cell_type": "code",
   "execution_count": null,
   "metadata": {
    "colab": {
     "base_uri": "https://localhost:8080/"
    },
    "id": "cVMiOA37dIVA",
    "outputId": "69919ab2-1c0c-440a-c605-1d8b0ddb0698"
   },
   "outputs": [
    {
     "data": {
      "text/plain": [
       "array([0.59091242, 0.21276708])"
      ]
     },
     "execution_count": 27,
     "metadata": {},
     "output_type": "execute_result"
    }
   ],
   "source": [
    "pca.explained_variance_ratio_"
   ]
  },
  {
   "cell_type": "code",
   "execution_count": null,
   "metadata": {
    "colab": {
     "base_uri": "https://localhost:8080/"
    },
    "id": "jZlEx-qRfUqD",
    "outputId": "f48b6d5b-a14c-404e-b094-e202b42c2c86"
   },
   "outputs": [
    {
     "name": "stdout",
     "output_type": "stream",
     "text": [
      "The amount of variance in the data explained by 2 principal components is 80.37%\n"
     ]
    }
   ],
   "source": [
    "total_variance_explained = np.sum(pca.explained_variance_ratio_) * 100\n",
    "print(f'The amount of variance in the data explained by 2 principal components is {total_variance_explained:.2f}%')"
   ]
  },
  {
   "cell_type": "markdown",
   "metadata": {
    "id": "zY1sI7hjkahc"
   },
   "source": [
    "## Plotting a scatter plot of the data projected to 2 Dimensions"
   ]
  },
  {
   "cell_type": "code",
   "execution_count": null,
   "metadata": {
    "colab": {
     "base_uri": "https://localhost:8080/",
     "height": 594
    },
    "id": "PxvEMIridFB8",
    "outputId": "85f02400-11dc-4568-a3aa-5fe1978c27e6"
   },
   "outputs": [
    {
     "data": {
      "image/png": "[encoded data removed]",
      "text/plain": [
       "<Figure size 1440x720 with 1 Axes>"
      ]
     },
     "metadata": {
      "needs_background": "light"
     },
     "output_type": "display_data"
    }
   ],
   "source": [
    "new_data = pca.transform(scaled_data)\n",
    "plt.figure(figsize=(20,10))\n",
    "plt.scatter(new_data[:,0], new_data[:,1], color=\"red\", marker=\"x\")\n",
    "plt.title(\"Dataset Projected to 2D\")\n",
    "plt.xlabel('Principal Component 1')\n",
    "plt.ylabel('Principal Component 2')\n",
    "plt.show()"
   ]
  },
  {
   "cell_type": "markdown",
   "metadata": {
    "id": "sOB48Wf7kUNf"
   },
   "source": [
    "## Conclusion\n",
    "\n",
    "The findings show that 2 principal components explain the majority of the variance in the data (80.37%) and therefore the reduced dimensionality of the data preserves the most important information."
   ]
  }
 ],
 "metadata": {
  "colab": {
   "provenance": []
  },
  "kernelspec": {
   "display_name": "Python 3 (ipykernel)",
   "language": "python",
   "name": "python3"
  },
  "language_info": {
   "codemirror_mode": {
    "name": "ipython",
    "version": 3
   },
   "file_extension": ".py",
   "mimetype": "text/x-python",
   "name": "python",
   "nbconvert_exporter": "python",
   "pygments_lexer": "ipython3",
   "version": "3.9.12"
  }
 },
 "nbformat": 4,
 "nbformat_minor": 4
}
