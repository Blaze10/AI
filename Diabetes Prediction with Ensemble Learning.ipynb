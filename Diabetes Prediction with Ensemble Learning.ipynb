{
 "cells": [
  {
   "cell_type": "markdown",
   "id": "9842deaa-f196-40a0-8f5b-78c7a462dbda",
   "metadata": {},
   "source": [
    "## Importing required libraries"
   ]
  },
  {
   "cell_type": "code",
   "execution_count": 22,
   "id": "e1e65b48-3b0f-497f-9ba0-ce8040f6d420",
   "metadata": {},
   "outputs": [],
   "source": [
    "import numpy as np\n",
    "import pandas as pd\n",
    "import matplotlib.pyplot as plt\n",
    "from sklearn.metrics import classification_report, confusion_matrix, ConfusionMatrixDisplay, accuracy_score\n",
    "from sklearn.tree import DecisionTreeClassifier\n",
    "from sklearn.svm import SVC\n",
    "from sklearn.linear_model import LogisticRegression\n",
    "from sklearn.ensemble import VotingClassifier\n",
    "import seaborn as sns\n",
    "from sklearn.preprocessing import StandardScaler\n",
    "from sklearn.model_selection import train_test_split"
   ]
  },
  {
   "cell_type": "markdown",
   "id": "160f3077-7a11-4eb4-9209-c366114a9f11",
   "metadata": {},
   "source": [
    "## Importing the dataset"
   ]
  },
  {
   "cell_type": "code",
   "execution_count": 23,
   "id": "c8d685e5-9fda-4e66-9bb3-58232d28e0cb",
   "metadata": {},
   "outputs": [
    {
     "data": {
      "text/html": [
       "<div>\n",
       "<style scoped>\n",
       "    .dataframe tbody tr th:only-of-type {\n",
       "        vertical-align: middle;\n",
       "    }\n",
       "\n",
       "    .dataframe tbody tr th {\n",
       "        vertical-align: top;\n",
       "    }\n",
       "\n",
       "    .dataframe thead th {\n",
       "        text-align: right;\n",
       "    }\n",
       "</style>\n",
       "<table border=\"1\" class=\"dataframe\">\n",
       "  <thead>\n",
       "    <tr style=\"text-align: right;\">\n",
       "      <th></th>\n",
       "      <th>Patient number</th>\n",
       "      <th>Cholesterol (mg/dl)</th>\n",
       "      <th>Glucose (mg/dl)</th>\n",
       "      <th>HDL Chol (mg/dl)</th>\n",
       "      <th>TChol/HDL ratio</th>\n",
       "      <th>Age</th>\n",
       "      <th>Gender</th>\n",
       "      <th>Height /stature (cm)</th>\n",
       "      <th>weight1 (Kg)</th>\n",
       "      <th>weight2(Kg)</th>\n",
       "      <th>BMI (Kg/m^2)</th>\n",
       "      <th>Systolic BP</th>\n",
       "      <th>Diastolic BP</th>\n",
       "      <th>waist (cm)</th>\n",
       "      <th>hip (cm)</th>\n",
       "      <th>Diabetes</th>\n",
       "    </tr>\n",
       "  </thead>\n",
       "  <tbody>\n",
       "    <tr>\n",
       "      <th>0</th>\n",
       "      <td>1</td>\n",
       "      <td>193.0</td>\n",
       "      <td>77.0</td>\n",
       "      <td>49.0</td>\n",
       "      <td>3.9</td>\n",
       "      <td>19</td>\n",
       "      <td>female</td>\n",
       "      <td>154.9</td>\n",
       "      <td>54.93</td>\n",
       "      <td>54</td>\n",
       "      <td>22.88</td>\n",
       "      <td>118.0</td>\n",
       "      <td>70.0</td>\n",
       "      <td>81.3</td>\n",
       "      <td>96.5</td>\n",
       "      <td>No diabetes</td>\n",
       "    </tr>\n",
       "    <tr>\n",
       "      <th>1</th>\n",
       "      <td>2</td>\n",
       "      <td>146.0</td>\n",
       "      <td>79.0</td>\n",
       "      <td>41.0</td>\n",
       "      <td>3.6</td>\n",
       "      <td>19</td>\n",
       "      <td>female</td>\n",
       "      <td>152.4</td>\n",
       "      <td>98.97</td>\n",
       "      <td>61</td>\n",
       "      <td>42.61</td>\n",
       "      <td>108.0</td>\n",
       "      <td>58.0</td>\n",
       "      <td>83.8</td>\n",
       "      <td>101.6</td>\n",
       "      <td>No diabetes</td>\n",
       "    </tr>\n",
       "    <tr>\n",
       "      <th>2</th>\n",
       "      <td>3</td>\n",
       "      <td>217.0</td>\n",
       "      <td>75.0</td>\n",
       "      <td>54.0</td>\n",
       "      <td>4.0</td>\n",
       "      <td>20</td>\n",
       "      <td>female</td>\n",
       "      <td>170.2</td>\n",
       "      <td>116.22</td>\n",
       "      <td>85</td>\n",
       "      <td>40.13</td>\n",
       "      <td>110.0</td>\n",
       "      <td>72.0</td>\n",
       "      <td>101.6</td>\n",
       "      <td>114.3</td>\n",
       "      <td>No diabetes</td>\n",
       "    </tr>\n",
       "    <tr>\n",
       "      <th>3</th>\n",
       "      <td>4</td>\n",
       "      <td>226.0</td>\n",
       "      <td>97.0</td>\n",
       "      <td>70.0</td>\n",
       "      <td>3.2</td>\n",
       "      <td>20</td>\n",
       "      <td>female</td>\n",
       "      <td>162.6</td>\n",
       "      <td>54.03</td>\n",
       "      <td>52</td>\n",
       "      <td>20.44</td>\n",
       "      <td>122.0</td>\n",
       "      <td>64.0</td>\n",
       "      <td>78.7</td>\n",
       "      <td>99.1</td>\n",
       "      <td>No diabetes</td>\n",
       "    </tr>\n",
       "    <tr>\n",
       "      <th>4</th>\n",
       "      <td>5</td>\n",
       "      <td>164.0</td>\n",
       "      <td>91.0</td>\n",
       "      <td>67.0</td>\n",
       "      <td>2.4</td>\n",
       "      <td>20</td>\n",
       "      <td>female</td>\n",
       "      <td>177.8</td>\n",
       "      <td>83.08</td>\n",
       "      <td>64</td>\n",
       "      <td>26.28</td>\n",
       "      <td>122.0</td>\n",
       "      <td>86.0</td>\n",
       "      <td>81.3</td>\n",
       "      <td>99.1</td>\n",
       "      <td>No diabetes</td>\n",
       "    </tr>\n",
       "  </tbody>\n",
       "</table>\n",
       "</div>"
      ],
      "text/plain": [
       "   Patient number   Cholesterol (mg/dl)  Glucose (mg/dl)  HDL Chol (mg/dl)  \\\n",
       "0               1                 193.0             77.0              49.0   \n",
       "1               2                 146.0             79.0              41.0   \n",
       "2               3                 217.0             75.0              54.0   \n",
       "3               4                 226.0             97.0              70.0   \n",
       "4               5                 164.0             91.0              67.0   \n",
       "\n",
       "   TChol/HDL ratio  Age  Gender  Height /stature (cm)  weight1 (Kg)  \\\n",
       "0              3.9   19  female                 154.9         54.93   \n",
       "1              3.6   19  female                 152.4         98.97   \n",
       "2              4.0   20  female                 170.2        116.22   \n",
       "3              3.2   20  female                 162.6         54.03   \n",
       "4              2.4   20  female                 177.8         83.08   \n",
       "\n",
       "   weight2(Kg)  BMI (Kg/m^2)  Systolic BP  Diastolic BP  waist (cm)  hip (cm)  \\\n",
       "0           54         22.88        118.0          70.0        81.3      96.5   \n",
       "1           61         42.61        108.0          58.0        83.8     101.6   \n",
       "2           85         40.13        110.0          72.0       101.6     114.3   \n",
       "3           52         20.44        122.0          64.0        78.7      99.1   \n",
       "4           64         26.28        122.0          86.0        81.3      99.1   \n",
       "\n",
       "      Diabetes  \n",
       "0  No diabetes  \n",
       "1  No diabetes  \n",
       "2  No diabetes  \n",
       "3  No diabetes  \n",
       "4  No diabetes  "
      ]
     },
     "execution_count": 23,
     "metadata": {},
     "output_type": "execute_result"
    }
   ],
   "source": [
    "df = pd.read_csv('./Diabetes_raw_dataset.csv')\n",
    "df.head()"
   ]
  },
  {
   "cell_type": "markdown",
   "id": "22923cdd-e4ef-4c1e-86a8-6377b4c57b4c",
   "metadata": {},
   "source": [
    "## Data exploration and cleaning"
   ]
  },
  {
   "cell_type": "markdown",
   "id": "370dc7b9-5952-49da-984d-7d0f8b07b188",
   "metadata": {},
   "source": [
    "Checking for any null values in the dataset"
   ]
  },
  {
   "cell_type": "code",
   "execution_count": 24,
   "id": "a4620279-8df8-422c-a228-880e6178f62a",
   "metadata": {},
   "outputs": [
    {
     "name": "stdout",
     "output_type": "stream",
     "text": [
      "<class 'pandas.core.frame.DataFrame'>\n",
      "RangeIndex: 500 entries, 0 to 499\n",
      "Data columns (total 16 columns):\n",
      " #   Column                Non-Null Count  Dtype  \n",
      "---  ------                --------------  -----  \n",
      " 0   Patient number        500 non-null    int64  \n",
      " 1    Cholesterol (mg/dl)  499 non-null    float64\n",
      " 2   Glucose (mg/dl)       499 non-null    float64\n",
      " 3   HDL Chol (mg/dl)      499 non-null    float64\n",
      " 4   TChol/HDL ratio       499 non-null    float64\n",
      " 5   Age                   500 non-null    int64  \n",
      " 6   Gender                495 non-null    object \n",
      " 7   Height /stature (cm)  500 non-null    float64\n",
      " 8   weight1 (Kg)          500 non-null    float64\n",
      " 9   weight2(Kg)           500 non-null    int64  \n",
      " 10  BMI (Kg/m^2)          500 non-null    float64\n",
      " 11  Systolic BP           498 non-null    float64\n",
      " 12  Diastolic BP          498 non-null    float64\n",
      " 13  waist (cm)            500 non-null    float64\n",
      " 14  hip (cm)              500 non-null    float64\n",
      " 15  Diabetes              493 non-null    object \n",
      "dtypes: float64(11), int64(3), object(2)\n",
      "memory usage: 62.6+ KB\n"
     ]
    }
   ],
   "source": [
    "df.info()"
   ]
  },
  {
   "cell_type": "markdown",
   "id": "6d97651f-89d2-491b-b437-cfbb7ae66be0",
   "metadata": {},
   "source": [
    "Checking how many null values are present for each feature"
   ]
  },
  {
   "cell_type": "code",
   "execution_count": 25,
   "id": "34b48aaa-812d-45cb-88a3-e13338c45ab8",
   "metadata": {},
   "outputs": [
    {
     "data": {
      "text/plain": [
       "Patient number          0\n",
       " Cholesterol (mg/dl)    1\n",
       "Glucose (mg/dl)         1\n",
       "HDL Chol (mg/dl)        1\n",
       "TChol/HDL ratio         1\n",
       "Age                     0\n",
       "Gender                  5\n",
       "Height /stature (cm)    0\n",
       "weight1 (Kg)            0\n",
       "weight2(Kg)             0\n",
       "BMI (Kg/m^2)            0\n",
       "Systolic BP             2\n",
       "Diastolic BP            2\n",
       "waist (cm)              0\n",
       "hip (cm)                0\n",
       "Diabetes                7\n",
       "dtype: int64"
      ]
     },
     "execution_count": 25,
     "metadata": {},
     "output_type": "execute_result"
    }
   ],
   "source": [
    "df.isna().sum()"
   ]
  },
  {
   "cell_type": "markdown",
   "id": "4ca3a1b5-95b2-46cc-abf6-fc28681f214e",
   "metadata": {},
   "source": [
    "Dropping all the rows with null values"
   ]
  },
  {
   "cell_type": "code",
   "execution_count": 26,
   "id": "a7efa87b-e7cb-4423-b187-8f0c23fb12bb",
   "metadata": {},
   "outputs": [],
   "source": [
    "df = df.dropna()"
   ]
  },
  {
   "cell_type": "code",
   "execution_count": 27,
   "id": "41df1fee-10a0-4610-a9c0-e59728160f82",
   "metadata": {},
   "outputs": [
    {
     "data": {
      "text/plain": [
       "Patient number          0\n",
       " Cholesterol (mg/dl)    0\n",
       "Glucose (mg/dl)         0\n",
       "HDL Chol (mg/dl)        0\n",
       "TChol/HDL ratio         0\n",
       "Age                     0\n",
       "Gender                  0\n",
       "Height /stature (cm)    0\n",
       "weight1 (Kg)            0\n",
       "weight2(Kg)             0\n",
       "BMI (Kg/m^2)            0\n",
       "Systolic BP             0\n",
       "Diastolic BP            0\n",
       "waist (cm)              0\n",
       "hip (cm)                0\n",
       "Diabetes                0\n",
       "dtype: int64"
      ]
     },
     "execution_count": 27,
     "metadata": {},
     "output_type": "execute_result"
    }
   ],
   "source": [
    "df.isna().sum()"
   ]
  },
  {
   "cell_type": "code",
   "execution_count": 28,
   "id": "a6235afc-5bc3-412a-86c6-1650d7270f5f",
   "metadata": {},
   "outputs": [
    {
     "data": {
      "text/html": [
       "<div>\n",
       "<style scoped>\n",
       "    .dataframe tbody tr th:only-of-type {\n",
       "        vertical-align: middle;\n",
       "    }\n",
       "\n",
       "    .dataframe tbody tr th {\n",
       "        vertical-align: top;\n",
       "    }\n",
       "\n",
       "    .dataframe thead th {\n",
       "        text-align: right;\n",
       "    }\n",
       "</style>\n",
       "<table border=\"1\" class=\"dataframe\">\n",
       "  <thead>\n",
       "    <tr style=\"text-align: right;\">\n",
       "      <th></th>\n",
       "      <th>Patient number</th>\n",
       "      <th>Cholesterol (mg/dl)</th>\n",
       "      <th>Glucose (mg/dl)</th>\n",
       "      <th>HDL Chol (mg/dl)</th>\n",
       "      <th>TChol/HDL ratio</th>\n",
       "      <th>Age</th>\n",
       "      <th>Gender</th>\n",
       "      <th>Height /stature (cm)</th>\n",
       "      <th>weight1 (Kg)</th>\n",
       "      <th>weight2(Kg)</th>\n",
       "      <th>BMI (Kg/m^2)</th>\n",
       "      <th>Systolic BP</th>\n",
       "      <th>Diastolic BP</th>\n",
       "      <th>waist (cm)</th>\n",
       "      <th>hip (cm)</th>\n",
       "      <th>Diabetes</th>\n",
       "    </tr>\n",
       "  </thead>\n",
       "  <tbody>\n",
       "    <tr>\n",
       "      <th>0</th>\n",
       "      <td>1</td>\n",
       "      <td>193.0</td>\n",
       "      <td>77.0</td>\n",
       "      <td>49.0</td>\n",
       "      <td>3.9</td>\n",
       "      <td>19</td>\n",
       "      <td>female</td>\n",
       "      <td>154.9</td>\n",
       "      <td>54.93</td>\n",
       "      <td>54</td>\n",
       "      <td>22.88</td>\n",
       "      <td>118.0</td>\n",
       "      <td>70.0</td>\n",
       "      <td>81.3</td>\n",
       "      <td>96.5</td>\n",
       "      <td>No diabetes</td>\n",
       "    </tr>\n",
       "    <tr>\n",
       "      <th>1</th>\n",
       "      <td>2</td>\n",
       "      <td>146.0</td>\n",
       "      <td>79.0</td>\n",
       "      <td>41.0</td>\n",
       "      <td>3.6</td>\n",
       "      <td>19</td>\n",
       "      <td>female</td>\n",
       "      <td>152.4</td>\n",
       "      <td>98.97</td>\n",
       "      <td>61</td>\n",
       "      <td>42.61</td>\n",
       "      <td>108.0</td>\n",
       "      <td>58.0</td>\n",
       "      <td>83.8</td>\n",
       "      <td>101.6</td>\n",
       "      <td>No diabetes</td>\n",
       "    </tr>\n",
       "    <tr>\n",
       "      <th>2</th>\n",
       "      <td>3</td>\n",
       "      <td>217.0</td>\n",
       "      <td>75.0</td>\n",
       "      <td>54.0</td>\n",
       "      <td>4.0</td>\n",
       "      <td>20</td>\n",
       "      <td>female</td>\n",
       "      <td>170.2</td>\n",
       "      <td>116.22</td>\n",
       "      <td>85</td>\n",
       "      <td>40.13</td>\n",
       "      <td>110.0</td>\n",
       "      <td>72.0</td>\n",
       "      <td>101.6</td>\n",
       "      <td>114.3</td>\n",
       "      <td>No diabetes</td>\n",
       "    </tr>\n",
       "    <tr>\n",
       "      <th>3</th>\n",
       "      <td>4</td>\n",
       "      <td>226.0</td>\n",
       "      <td>97.0</td>\n",
       "      <td>70.0</td>\n",
       "      <td>3.2</td>\n",
       "      <td>20</td>\n",
       "      <td>female</td>\n",
       "      <td>162.6</td>\n",
       "      <td>54.03</td>\n",
       "      <td>52</td>\n",
       "      <td>20.44</td>\n",
       "      <td>122.0</td>\n",
       "      <td>64.0</td>\n",
       "      <td>78.7</td>\n",
       "      <td>99.1</td>\n",
       "      <td>No diabetes</td>\n",
       "    </tr>\n",
       "    <tr>\n",
       "      <th>4</th>\n",
       "      <td>5</td>\n",
       "      <td>164.0</td>\n",
       "      <td>91.0</td>\n",
       "      <td>67.0</td>\n",
       "      <td>2.4</td>\n",
       "      <td>20</td>\n",
       "      <td>female</td>\n",
       "      <td>177.8</td>\n",
       "      <td>83.08</td>\n",
       "      <td>64</td>\n",
       "      <td>26.28</td>\n",
       "      <td>122.0</td>\n",
       "      <td>86.0</td>\n",
       "      <td>81.3</td>\n",
       "      <td>99.1</td>\n",
       "      <td>No diabetes</td>\n",
       "    </tr>\n",
       "  </tbody>\n",
       "</table>\n",
       "</div>"
      ],
      "text/plain": [
       "   Patient number   Cholesterol (mg/dl)  Glucose (mg/dl)  HDL Chol (mg/dl)  \\\n",
       "0               1                 193.0             77.0              49.0   \n",
       "1               2                 146.0             79.0              41.0   \n",
       "2               3                 217.0             75.0              54.0   \n",
       "3               4                 226.0             97.0              70.0   \n",
       "4               5                 164.0             91.0              67.0   \n",
       "\n",
       "   TChol/HDL ratio  Age  Gender  Height /stature (cm)  weight1 (Kg)  \\\n",
       "0              3.9   19  female                 154.9         54.93   \n",
       "1              3.6   19  female                 152.4         98.97   \n",
       "2              4.0   20  female                 170.2        116.22   \n",
       "3              3.2   20  female                 162.6         54.03   \n",
       "4              2.4   20  female                 177.8         83.08   \n",
       "\n",
       "   weight2(Kg)  BMI (Kg/m^2)  Systolic BP  Diastolic BP  waist (cm)  hip (cm)  \\\n",
       "0           54         22.88        118.0          70.0        81.3      96.5   \n",
       "1           61         42.61        108.0          58.0        83.8     101.6   \n",
       "2           85         40.13        110.0          72.0       101.6     114.3   \n",
       "3           52         20.44        122.0          64.0        78.7      99.1   \n",
       "4           64         26.28        122.0          86.0        81.3      99.1   \n",
       "\n",
       "      Diabetes  \n",
       "0  No diabetes  \n",
       "1  No diabetes  \n",
       "2  No diabetes  \n",
       "3  No diabetes  \n",
       "4  No diabetes  "
      ]
     },
     "execution_count": 28,
     "metadata": {},
     "output_type": "execute_result"
    }
   ],
   "source": [
    "df.head()"
   ]
  },
  {
   "cell_type": "markdown",
   "id": "792bf3f9-eb82-456f-82cb-e947f317548d",
   "metadata": {},
   "source": [
    "Checking the range for values in the dataset"
   ]
  },
  {
   "cell_type": "code",
   "execution_count": 29,
   "id": "c2d1b0de-cc29-4acc-a933-4089285e8dac",
   "metadata": {},
   "outputs": [
    {
     "data": {
      "text/html": [
       "<div>\n",
       "<style scoped>\n",
       "    .dataframe tbody tr th:only-of-type {\n",
       "        vertical-align: middle;\n",
       "    }\n",
       "\n",
       "    .dataframe tbody tr th {\n",
       "        vertical-align: top;\n",
       "    }\n",
       "\n",
       "    .dataframe thead th {\n",
       "        text-align: right;\n",
       "    }\n",
       "</style>\n",
       "<table border=\"1\" class=\"dataframe\">\n",
       "  <thead>\n",
       "    <tr style=\"text-align: right;\">\n",
       "      <th></th>\n",
       "      <th>Patient number</th>\n",
       "      <th>Cholesterol (mg/dl)</th>\n",
       "      <th>Glucose (mg/dl)</th>\n",
       "      <th>HDL Chol (mg/dl)</th>\n",
       "      <th>TChol/HDL ratio</th>\n",
       "      <th>Age</th>\n",
       "      <th>Height /stature (cm)</th>\n",
       "      <th>weight1 (Kg)</th>\n",
       "      <th>weight2(Kg)</th>\n",
       "      <th>BMI (Kg/m^2)</th>\n",
       "      <th>Systolic BP</th>\n",
       "      <th>Diastolic BP</th>\n",
       "      <th>waist (cm)</th>\n",
       "      <th>hip (cm)</th>\n",
       "    </tr>\n",
       "  </thead>\n",
       "  <tbody>\n",
       "    <tr>\n",
       "      <th>count</th>\n",
       "      <td>482.000000</td>\n",
       "      <td>482.000000</td>\n",
       "      <td>482.000000</td>\n",
       "      <td>482.000000</td>\n",
       "      <td>482.000000</td>\n",
       "      <td>482.000000</td>\n",
       "      <td>482.000000</td>\n",
       "      <td>482.00000</td>\n",
       "      <td>482.000000</td>\n",
       "      <td>482.000000</td>\n",
       "      <td>482.000000</td>\n",
       "      <td>482.000000</td>\n",
       "      <td>482.000000</td>\n",
       "      <td>482.000000</td>\n",
       "    </tr>\n",
       "    <tr>\n",
       "      <th>mean</th>\n",
       "      <td>242.904564</td>\n",
       "      <td>208.622407</td>\n",
       "      <td>129.300830</td>\n",
       "      <td>50.311203</td>\n",
       "      <td>4.477386</td>\n",
       "      <td>46.626556</td>\n",
       "      <td>167.240664</td>\n",
       "      <td>83.00695</td>\n",
       "      <td>80.163900</td>\n",
       "      <td>29.933983</td>\n",
       "      <td>136.732365</td>\n",
       "      <td>82.865145</td>\n",
       "      <td>95.849378</td>\n",
       "      <td>109.072407</td>\n",
       "    </tr>\n",
       "    <tr>\n",
       "      <th>std</th>\n",
       "      <td>141.423456</td>\n",
       "      <td>50.991485</td>\n",
       "      <td>421.237903</td>\n",
       "      <td>17.151721</td>\n",
       "      <td>1.657719</td>\n",
       "      <td>17.458402</td>\n",
       "      <td>12.622313</td>\n",
       "      <td>46.99381</td>\n",
       "      <td>18.580501</td>\n",
       "      <td>18.193906</td>\n",
       "      <td>23.028613</td>\n",
       "      <td>13.565291</td>\n",
       "      <td>15.221900</td>\n",
       "      <td>14.231773</td>\n",
       "    </tr>\n",
       "    <tr>\n",
       "      <th>min</th>\n",
       "      <td>1.000000</td>\n",
       "      <td>2.000000</td>\n",
       "      <td>48.000000</td>\n",
       "      <td>1.000000</td>\n",
       "      <td>1.500000</td>\n",
       "      <td>19.000000</td>\n",
       "      <td>0.000000</td>\n",
       "      <td>0.00000</td>\n",
       "      <td>0.000000</td>\n",
       "      <td>0.000000</td>\n",
       "      <td>90.000000</td>\n",
       "      <td>48.000000</td>\n",
       "      <td>0.000000</td>\n",
       "      <td>76.200000</td>\n",
       "    </tr>\n",
       "    <tr>\n",
       "      <th>25%</th>\n",
       "      <td>121.250000</td>\n",
       "      <td>179.000000</td>\n",
       "      <td>81.000000</td>\n",
       "      <td>39.000000</td>\n",
       "      <td>3.200000</td>\n",
       "      <td>31.000000</td>\n",
       "      <td>160.000000</td>\n",
       "      <td>68.21250</td>\n",
       "      <td>68.000000</td>\n",
       "      <td>23.092500</td>\n",
       "      <td>120.000000</td>\n",
       "      <td>74.000000</td>\n",
       "      <td>83.800000</td>\n",
       "      <td>99.100000</td>\n",
       "    </tr>\n",
       "    <tr>\n",
       "      <th>50%</th>\n",
       "      <td>241.500000</td>\n",
       "      <td>204.000000</td>\n",
       "      <td>89.000000</td>\n",
       "      <td>46.000000</td>\n",
       "      <td>4.200000</td>\n",
       "      <td>43.000000</td>\n",
       "      <td>167.600000</td>\n",
       "      <td>79.00000</td>\n",
       "      <td>78.000000</td>\n",
       "      <td>28.150000</td>\n",
       "      <td>136.000000</td>\n",
       "      <td>82.000000</td>\n",
       "      <td>94.000000</td>\n",
       "      <td>106.700000</td>\n",
       "    </tr>\n",
       "    <tr>\n",
       "      <th>75%</th>\n",
       "      <td>361.750000</td>\n",
       "      <td>230.000000</td>\n",
       "      <td>107.750000</td>\n",
       "      <td>59.000000</td>\n",
       "      <td>5.300000</td>\n",
       "      <td>61.000000</td>\n",
       "      <td>175.300000</td>\n",
       "      <td>90.80000</td>\n",
       "      <td>90.000000</td>\n",
       "      <td>33.905000</td>\n",
       "      <td>148.000000</td>\n",
       "      <td>90.000000</td>\n",
       "      <td>104.100000</td>\n",
       "      <td>116.800000</td>\n",
       "    </tr>\n",
       "    <tr>\n",
       "      <th>max</th>\n",
       "      <td>499.000000</td>\n",
       "      <td>500.000000</td>\n",
       "      <td>9091.000000</td>\n",
       "      <td>120.000000</td>\n",
       "      <td>19.300000</td>\n",
       "      <td>92.000000</td>\n",
       "      <td>193.000000</td>\n",
       "      <td>996.98000</td>\n",
       "      <td>148.000000</td>\n",
       "      <td>377.280000</td>\n",
       "      <td>250.000000</td>\n",
       "      <td>124.000000</td>\n",
       "      <td>142.200000</td>\n",
       "      <td>162.600000</td>\n",
       "    </tr>\n",
       "  </tbody>\n",
       "</table>\n",
       "</div>"
      ],
      "text/plain": [
       "       Patient number   Cholesterol (mg/dl)  Glucose (mg/dl)  \\\n",
       "count      482.000000            482.000000       482.000000   \n",
       "mean       242.904564            208.622407       129.300830   \n",
       "std        141.423456             50.991485       421.237903   \n",
       "min          1.000000              2.000000        48.000000   \n",
       "25%        121.250000            179.000000        81.000000   \n",
       "50%        241.500000            204.000000        89.000000   \n",
       "75%        361.750000            230.000000       107.750000   \n",
       "max        499.000000            500.000000      9091.000000   \n",
       "\n",
       "       HDL Chol (mg/dl)  TChol/HDL ratio         Age  Height /stature (cm)  \\\n",
       "count        482.000000       482.000000  482.000000            482.000000   \n",
       "mean          50.311203         4.477386   46.626556            167.240664   \n",
       "std           17.151721         1.657719   17.458402             12.622313   \n",
       "min            1.000000         1.500000   19.000000              0.000000   \n",
       "25%           39.000000         3.200000   31.000000            160.000000   \n",
       "50%           46.000000         4.200000   43.000000            167.600000   \n",
       "75%           59.000000         5.300000   61.000000            175.300000   \n",
       "max          120.000000        19.300000   92.000000            193.000000   \n",
       "\n",
       "       weight1 (Kg)  weight2(Kg)  BMI (Kg/m^2)  Systolic BP  Diastolic BP  \\\n",
       "count     482.00000   482.000000    482.000000   482.000000    482.000000   \n",
       "mean       83.00695    80.163900     29.933983   136.732365     82.865145   \n",
       "std        46.99381    18.580501     18.193906    23.028613     13.565291   \n",
       "min         0.00000     0.000000      0.000000    90.000000     48.000000   \n",
       "25%        68.21250    68.000000     23.092500   120.000000     74.000000   \n",
       "50%        79.00000    78.000000     28.150000   136.000000     82.000000   \n",
       "75%        90.80000    90.000000     33.905000   148.000000     90.000000   \n",
       "max       996.98000   148.000000    377.280000   250.000000    124.000000   \n",
       "\n",
       "       waist (cm)    hip (cm)  \n",
       "count  482.000000  482.000000  \n",
       "mean    95.849378  109.072407  \n",
       "std     15.221900   14.231773  \n",
       "min      0.000000   76.200000  \n",
       "25%     83.800000   99.100000  \n",
       "50%     94.000000  106.700000  \n",
       "75%    104.100000  116.800000  \n",
       "max    142.200000  162.600000  "
      ]
     },
     "execution_count": 29,
     "metadata": {},
     "output_type": "execute_result"
    }
   ],
   "source": [
    "df.describe()"
   ]
  },
  {
   "cell_type": "markdown",
   "id": "bf0bf695-fd2a-48f6-9c86-84958167ed52",
   "metadata": {},
   "source": [
    "Checking the type of categories we have for categorical features."
   ]
  },
  {
   "cell_type": "code",
   "execution_count": 30,
   "id": "f5b45232-bf02-4517-acba-a8536f177fd1",
   "metadata": {},
   "outputs": [
    {
     "data": {
      "text/plain": [
       "female    277\n",
       "male      205\n",
       "Name: Gender, dtype: int64"
      ]
     },
     "execution_count": 30,
     "metadata": {},
     "output_type": "execute_result"
    }
   ],
   "source": [
    "df['Gender'].value_counts()"
   ]
  },
  {
   "cell_type": "code",
   "execution_count": 31,
   "id": "1e2a82db-33ca-46e0-91e6-08ba96896f57",
   "metadata": {},
   "outputs": [
    {
     "data": {
      "text/plain": [
       "No diabetes    410\n",
       "Diabetes        72\n",
       "Name: Diabetes, dtype: int64"
      ]
     },
     "execution_count": 31,
     "metadata": {},
     "output_type": "execute_result"
    }
   ],
   "source": [
    "df['Diabetes'].value_counts()"
   ]
  },
  {
   "cell_type": "markdown",
   "id": "24264285-56f9-4da2-9906-27e167a50728",
   "metadata": {},
   "source": [
    "The number of diabetic patents is very low as compared to the non-diabetic ones."
   ]
  },
  {
   "cell_type": "markdown",
   "id": "b52efdcc-553e-4104-a7ab-e4b7ea51032a",
   "metadata": {},
   "source": [
    "- I have removed the `Patient number` Column as it is for internal records is not required for diabetes prediction."
   ]
  },
  {
   "cell_type": "markdown",
   "id": "f49a1620-60bc-4bf5-aecd-52f56454486e",
   "metadata": {},
   "source": [
    "Removing the `Patient number` column"
   ]
  },
  {
   "cell_type": "code",
   "execution_count": 32,
   "id": "263046d0-4ad7-4292-b22e-7c0b8a4420bc",
   "metadata": {},
   "outputs": [],
   "source": [
    "df = df.drop(columns=['Patient number'])"
   ]
  },
  {
   "cell_type": "code",
   "execution_count": 33,
   "id": "5fe344e4-2d0c-4111-83a0-33015bf2d736",
   "metadata": {},
   "outputs": [
    {
     "data": {
      "text/html": [
       "<div>\n",
       "<style scoped>\n",
       "    .dataframe tbody tr th:only-of-type {\n",
       "        vertical-align: middle;\n",
       "    }\n",
       "\n",
       "    .dataframe tbody tr th {\n",
       "        vertical-align: top;\n",
       "    }\n",
       "\n",
       "    .dataframe thead th {\n",
       "        text-align: right;\n",
       "    }\n",
       "</style>\n",
       "<table border=\"1\" class=\"dataframe\">\n",
       "  <thead>\n",
       "    <tr style=\"text-align: right;\">\n",
       "      <th></th>\n",
       "      <th>Cholesterol (mg/dl)</th>\n",
       "      <th>Glucose (mg/dl)</th>\n",
       "      <th>HDL Chol (mg/dl)</th>\n",
       "      <th>TChol/HDL ratio</th>\n",
       "      <th>Age</th>\n",
       "      <th>Gender</th>\n",
       "      <th>Height /stature (cm)</th>\n",
       "      <th>weight1 (Kg)</th>\n",
       "      <th>weight2(Kg)</th>\n",
       "      <th>BMI (Kg/m^2)</th>\n",
       "      <th>Systolic BP</th>\n",
       "      <th>Diastolic BP</th>\n",
       "      <th>waist (cm)</th>\n",
       "      <th>hip (cm)</th>\n",
       "      <th>Diabetes</th>\n",
       "    </tr>\n",
       "  </thead>\n",
       "  <tbody>\n",
       "    <tr>\n",
       "      <th>0</th>\n",
       "      <td>193.0</td>\n",
       "      <td>77.0</td>\n",
       "      <td>49.0</td>\n",
       "      <td>3.9</td>\n",
       "      <td>19</td>\n",
       "      <td>female</td>\n",
       "      <td>154.9</td>\n",
       "      <td>54.93</td>\n",
       "      <td>54</td>\n",
       "      <td>22.88</td>\n",
       "      <td>118.0</td>\n",
       "      <td>70.0</td>\n",
       "      <td>81.3</td>\n",
       "      <td>96.5</td>\n",
       "      <td>No diabetes</td>\n",
       "    </tr>\n",
       "    <tr>\n",
       "      <th>1</th>\n",
       "      <td>146.0</td>\n",
       "      <td>79.0</td>\n",
       "      <td>41.0</td>\n",
       "      <td>3.6</td>\n",
       "      <td>19</td>\n",
       "      <td>female</td>\n",
       "      <td>152.4</td>\n",
       "      <td>98.97</td>\n",
       "      <td>61</td>\n",
       "      <td>42.61</td>\n",
       "      <td>108.0</td>\n",
       "      <td>58.0</td>\n",
       "      <td>83.8</td>\n",
       "      <td>101.6</td>\n",
       "      <td>No diabetes</td>\n",
       "    </tr>\n",
       "    <tr>\n",
       "      <th>2</th>\n",
       "      <td>217.0</td>\n",
       "      <td>75.0</td>\n",
       "      <td>54.0</td>\n",
       "      <td>4.0</td>\n",
       "      <td>20</td>\n",
       "      <td>female</td>\n",
       "      <td>170.2</td>\n",
       "      <td>116.22</td>\n",
       "      <td>85</td>\n",
       "      <td>40.13</td>\n",
       "      <td>110.0</td>\n",
       "      <td>72.0</td>\n",
       "      <td>101.6</td>\n",
       "      <td>114.3</td>\n",
       "      <td>No diabetes</td>\n",
       "    </tr>\n",
       "    <tr>\n",
       "      <th>3</th>\n",
       "      <td>226.0</td>\n",
       "      <td>97.0</td>\n",
       "      <td>70.0</td>\n",
       "      <td>3.2</td>\n",
       "      <td>20</td>\n",
       "      <td>female</td>\n",
       "      <td>162.6</td>\n",
       "      <td>54.03</td>\n",
       "      <td>52</td>\n",
       "      <td>20.44</td>\n",
       "      <td>122.0</td>\n",
       "      <td>64.0</td>\n",
       "      <td>78.7</td>\n",
       "      <td>99.1</td>\n",
       "      <td>No diabetes</td>\n",
       "    </tr>\n",
       "    <tr>\n",
       "      <th>4</th>\n",
       "      <td>164.0</td>\n",
       "      <td>91.0</td>\n",
       "      <td>67.0</td>\n",
       "      <td>2.4</td>\n",
       "      <td>20</td>\n",
       "      <td>female</td>\n",
       "      <td>177.8</td>\n",
       "      <td>83.08</td>\n",
       "      <td>64</td>\n",
       "      <td>26.28</td>\n",
       "      <td>122.0</td>\n",
       "      <td>86.0</td>\n",
       "      <td>81.3</td>\n",
       "      <td>99.1</td>\n",
       "      <td>No diabetes</td>\n",
       "    </tr>\n",
       "  </tbody>\n",
       "</table>\n",
       "</div>"
      ],
      "text/plain": [
       "    Cholesterol (mg/dl)  Glucose (mg/dl)  HDL Chol (mg/dl)  TChol/HDL ratio  \\\n",
       "0                 193.0             77.0              49.0              3.9   \n",
       "1                 146.0             79.0              41.0              3.6   \n",
       "2                 217.0             75.0              54.0              4.0   \n",
       "3                 226.0             97.0              70.0              3.2   \n",
       "4                 164.0             91.0              67.0              2.4   \n",
       "\n",
       "   Age  Gender  Height /stature (cm)  weight1 (Kg)  weight2(Kg)  BMI (Kg/m^2)  \\\n",
       "0   19  female                 154.9         54.93           54         22.88   \n",
       "1   19  female                 152.4         98.97           61         42.61   \n",
       "2   20  female                 170.2        116.22           85         40.13   \n",
       "3   20  female                 162.6         54.03           52         20.44   \n",
       "4   20  female                 177.8         83.08           64         26.28   \n",
       "\n",
       "   Systolic BP  Diastolic BP  waist (cm)  hip (cm)     Diabetes  \n",
       "0        118.0          70.0        81.3      96.5  No diabetes  \n",
       "1        108.0          58.0        83.8     101.6  No diabetes  \n",
       "2        110.0          72.0       101.6     114.3  No diabetes  \n",
       "3        122.0          64.0        78.7      99.1  No diabetes  \n",
       "4        122.0          86.0        81.3      99.1  No diabetes  "
      ]
     },
     "execution_count": 33,
     "metadata": {},
     "output_type": "execute_result"
    }
   ],
   "source": [
    "df.head()"
   ]
  },
  {
   "cell_type": "markdown",
   "id": "3afd037c-92fc-49e0-b6b4-ebb77ac86cbc",
   "metadata": {},
   "source": [
    "Plotting the heat map"
   ]
  },
  {
   "cell_type": "code",
   "execution_count": 34,
   "id": "e50d0d8f-314a-419d-abda-53e4633b3c0b",
   "metadata": {},
   "outputs": [
    {
     "data": {
      "image/png": "[encoded data removed]",
      "text/plain": [
       "<Figure size 1440x1440 with 2 Axes>"
      ]
     },
     "metadata": {
      "needs_background": "light"
     },
     "output_type": "display_data"
    }
   ],
   "source": [
    "corrmat = df.corr()\n",
    "top_corr_features = corrmat.index\n",
    "plt.figure(figsize=(20,20))\n",
    "\n",
    "# plot heat map\n",
    "g=sns.heatmap(df[top_corr_features].corr(),annot=True,cmap=\"RdYlGn\")"
   ]
  },
  {
   "cell_type": "markdown",
   "id": "f79afeb7-bf95-49b0-a98c-ec9a2edebe9c",
   "metadata": {},
   "source": [
    "- I will also remove the `Height`, `Weight1` and `Weight2` columns as we already have the calculated BMI for each patient.\n",
    "- Article 2 mentions that `WHR (Waist Hip Ratio)` and `WC (Waist circumferece)` are best indicators for predicting Type 2 diabetes. We have the waist and hip measurements and `WHR` can be calculated by dividing the `waist (cm)` and `hip (cm)` values for the particular patient. We will then drop the `hip (cm)` column as we already have the ratio and the the hip measurement alone is not shown to be contributing for Type 2 diabetes.\n",
    "\n",
    "- We will tansform the `Gender` column to have `1` for `female` and `0` for `male` values.\n",
    "- We will tansform the `Diabetes` column to `1` for `male` and `0` for `female ` values."
   ]
  },
  {
   "cell_type": "markdown",
   "id": "fd87c66a-57f1-429e-8be2-30e28aa68f16",
   "metadata": {},
   "source": [
    "Calculating the values for `WHR`"
   ]
  },
  {
   "cell_type": "code",
   "execution_count": 35,
   "id": "355c3db5-b846-4b01-8509-166f7bfb9cc8",
   "metadata": {},
   "outputs": [],
   "source": [
    "whr = df['waist (cm)'] / df['hip (cm)']\n",
    "whr = whr.round(2)"
   ]
  },
  {
   "cell_type": "code",
   "execution_count": 36,
   "id": "f7407429-35a3-4d00-9d30-63c612e70e5a",
   "metadata": {},
   "outputs": [],
   "source": [
    "df['WHR'] = whr"
   ]
  },
  {
   "cell_type": "markdown",
   "id": "d2e02964-79fd-4f98-b7af-dd1424e39493",
   "metadata": {},
   "source": [
    "Transforming the Gender column"
   ]
  },
  {
   "cell_type": "code",
   "execution_count": 37,
   "id": "401c70d7-eb6f-4cdf-b585-b8588c85aed5",
   "metadata": {},
   "outputs": [],
   "source": [
    "df = pd.get_dummies(df, columns=['Gender'])"
   ]
  },
  {
   "cell_type": "markdown",
   "id": "a06e652d-801e-4e09-a9ca-cd1b7921bc53",
   "metadata": {},
   "source": [
    "Transforming the Diabetes column"
   ]
  },
  {
   "cell_type": "code",
   "execution_count": 38,
   "id": "8ebb386e-c49f-4552-828a-980994fa1244",
   "metadata": {},
   "outputs": [],
   "source": [
    "df.loc[df['Diabetes'] == 'No diabetes', 'Diabetes'] = 0\n",
    "df.loc[df['Diabetes'] == 'Diabetes', 'Diabetes'] = 1"
   ]
  },
  {
   "cell_type": "markdown",
   "id": "233ebbb8-2621-451e-9ded-1429add63452",
   "metadata": {},
   "source": [
    "Removing the hip, height and weight columns"
   ]
  },
  {
   "cell_type": "code",
   "execution_count": 39,
   "id": "5473f534-6a89-46b9-bebd-7b03c7a7895a",
   "metadata": {},
   "outputs": [],
   "source": [
    "df = df.drop(columns=['hip (cm)', 'Height /stature (cm)', 'weight1 (Kg)', 'weight2(Kg)'])"
   ]
  },
  {
   "cell_type": "code",
   "execution_count": 40,
   "id": "3c075420-2867-42ac-afd7-6938a9e59fcb",
   "metadata": {},
   "outputs": [
    {
     "data": {
      "text/html": [
       "<div>\n",
       "<style scoped>\n",
       "    .dataframe tbody tr th:only-of-type {\n",
       "        vertical-align: middle;\n",
       "    }\n",
       "\n",
       "    .dataframe tbody tr th {\n",
       "        vertical-align: top;\n",
       "    }\n",
       "\n",
       "    .dataframe thead th {\n",
       "        text-align: right;\n",
       "    }\n",
       "</style>\n",
       "<table border=\"1\" class=\"dataframe\">\n",
       "  <thead>\n",
       "    <tr style=\"text-align: right;\">\n",
       "      <th></th>\n",
       "      <th>Cholesterol (mg/dl)</th>\n",
       "      <th>Glucose (mg/dl)</th>\n",
       "      <th>HDL Chol (mg/dl)</th>\n",
       "      <th>TChol/HDL ratio</th>\n",
       "      <th>Age</th>\n",
       "      <th>BMI (Kg/m^2)</th>\n",
       "      <th>Systolic BP</th>\n",
       "      <th>Diastolic BP</th>\n",
       "      <th>waist (cm)</th>\n",
       "      <th>Diabetes</th>\n",
       "      <th>WHR</th>\n",
       "      <th>Gender_female</th>\n",
       "      <th>Gender_male</th>\n",
       "    </tr>\n",
       "  </thead>\n",
       "  <tbody>\n",
       "    <tr>\n",
       "      <th>0</th>\n",
       "      <td>193.0</td>\n",
       "      <td>77.0</td>\n",
       "      <td>49.0</td>\n",
       "      <td>3.9</td>\n",
       "      <td>19</td>\n",
       "      <td>22.88</td>\n",
       "      <td>118.0</td>\n",
       "      <td>70.0</td>\n",
       "      <td>81.3</td>\n",
       "      <td>0</td>\n",
       "      <td>0.84</td>\n",
       "      <td>1</td>\n",
       "      <td>0</td>\n",
       "    </tr>\n",
       "    <tr>\n",
       "      <th>1</th>\n",
       "      <td>146.0</td>\n",
       "      <td>79.0</td>\n",
       "      <td>41.0</td>\n",
       "      <td>3.6</td>\n",
       "      <td>19</td>\n",
       "      <td>42.61</td>\n",
       "      <td>108.0</td>\n",
       "      <td>58.0</td>\n",
       "      <td>83.8</td>\n",
       "      <td>0</td>\n",
       "      <td>0.82</td>\n",
       "      <td>1</td>\n",
       "      <td>0</td>\n",
       "    </tr>\n",
       "    <tr>\n",
       "      <th>2</th>\n",
       "      <td>217.0</td>\n",
       "      <td>75.0</td>\n",
       "      <td>54.0</td>\n",
       "      <td>4.0</td>\n",
       "      <td>20</td>\n",
       "      <td>40.13</td>\n",
       "      <td>110.0</td>\n",
       "      <td>72.0</td>\n",
       "      <td>101.6</td>\n",
       "      <td>0</td>\n",
       "      <td>0.89</td>\n",
       "      <td>1</td>\n",
       "      <td>0</td>\n",
       "    </tr>\n",
       "    <tr>\n",
       "      <th>3</th>\n",
       "      <td>226.0</td>\n",
       "      <td>97.0</td>\n",
       "      <td>70.0</td>\n",
       "      <td>3.2</td>\n",
       "      <td>20</td>\n",
       "      <td>20.44</td>\n",
       "      <td>122.0</td>\n",
       "      <td>64.0</td>\n",
       "      <td>78.7</td>\n",
       "      <td>0</td>\n",
       "      <td>0.79</td>\n",
       "      <td>1</td>\n",
       "      <td>0</td>\n",
       "    </tr>\n",
       "    <tr>\n",
       "      <th>4</th>\n",
       "      <td>164.0</td>\n",
       "      <td>91.0</td>\n",
       "      <td>67.0</td>\n",
       "      <td>2.4</td>\n",
       "      <td>20</td>\n",
       "      <td>26.28</td>\n",
       "      <td>122.0</td>\n",
       "      <td>86.0</td>\n",
       "      <td>81.3</td>\n",
       "      <td>0</td>\n",
       "      <td>0.82</td>\n",
       "      <td>1</td>\n",
       "      <td>0</td>\n",
       "    </tr>\n",
       "  </tbody>\n",
       "</table>\n",
       "</div>"
      ],
      "text/plain": [
       "    Cholesterol (mg/dl)  Glucose (mg/dl)  HDL Chol (mg/dl)  TChol/HDL ratio  \\\n",
       "0                 193.0             77.0              49.0              3.9   \n",
       "1                 146.0             79.0              41.0              3.6   \n",
       "2                 217.0             75.0              54.0              4.0   \n",
       "3                 226.0             97.0              70.0              3.2   \n",
       "4                 164.0             91.0              67.0              2.4   \n",
       "\n",
       "   Age  BMI (Kg/m^2)  Systolic BP  Diastolic BP  waist (cm) Diabetes   WHR  \\\n",
       "0   19         22.88        118.0          70.0        81.3        0  0.84   \n",
       "1   19         42.61        108.0          58.0        83.8        0  0.82   \n",
       "2   20         40.13        110.0          72.0       101.6        0  0.89   \n",
       "3   20         20.44        122.0          64.0        78.7        0  0.79   \n",
       "4   20         26.28        122.0          86.0        81.3        0  0.82   \n",
       "\n",
       "   Gender_female  Gender_male  \n",
       "0              1            0  \n",
       "1              1            0  \n",
       "2              1            0  \n",
       "3              1            0  \n",
       "4              1            0  "
      ]
     },
     "execution_count": 40,
     "metadata": {},
     "output_type": "execute_result"
    }
   ],
   "source": [
    "df.head()"
   ]
  },
  {
   "cell_type": "markdown",
   "id": "d8e36430-9f4a-4997-a81e-ff014f1fa783",
   "metadata": {},
   "source": [
    "Splitting the dataset into features and labels"
   ]
  },
  {
   "cell_type": "code",
   "execution_count": 41,
   "id": "06481098-7ce9-4561-843d-3932f4a7eece",
   "metadata": {},
   "outputs": [
    {
     "data": {
      "text/plain": [
       "Index([' Cholesterol (mg/dl)', 'Glucose (mg/dl)', 'HDL Chol (mg/dl)',\n",
       "       'TChol/HDL ratio', 'Age', 'BMI (Kg/m^2)', 'Systolic BP', 'Diastolic BP',\n",
       "       'waist (cm)', 'Diabetes', 'WHR', 'Gender_female', 'Gender_male'],\n",
       "      dtype='object')"
      ]
     },
     "execution_count": 41,
     "metadata": {},
     "output_type": "execute_result"
    }
   ],
   "source": [
    "df.columns"
   ]
  },
  {
   "cell_type": "code",
   "execution_count": 42,
   "id": "0b9e8e5a-2b75-4364-85af-e9617c9660cc",
   "metadata": {},
   "outputs": [],
   "source": [
    "X = df[[' Cholesterol (mg/dl)', 'Glucose (mg/dl)', 'HDL Chol (mg/dl)',\n",
    "       'TChol/HDL ratio', 'Age', 'BMI (Kg/m^2)', 'Systolic BP', 'Diastolic BP',\n",
    "       'waist (cm)', 'WHR', 'Gender_female', 'Gender_male']]\n",
    "y = df[['Diabetes']].astype('int').values"
   ]
  },
  {
   "cell_type": "code",
   "execution_count": 43,
   "id": "ecb4bcdb-85a9-4f79-ab24-8518858efdd0",
   "metadata": {},
   "outputs": [
    {
     "data": {
      "text/html": [
       "<div>\n",
       "<style scoped>\n",
       "    .dataframe tbody tr th:only-of-type {\n",
       "        vertical-align: middle;\n",
       "    }\n",
       "\n",
       "    .dataframe tbody tr th {\n",
       "        vertical-align: top;\n",
       "    }\n",
       "\n",
       "    .dataframe thead th {\n",
       "        text-align: right;\n",
       "    }\n",
       "</style>\n",
       "<table border=\"1\" class=\"dataframe\">\n",
       "  <thead>\n",
       "    <tr style=\"text-align: right;\">\n",
       "      <th></th>\n",
       "      <th>Cholesterol (mg/dl)</th>\n",
       "      <th>Glucose (mg/dl)</th>\n",
       "      <th>HDL Chol (mg/dl)</th>\n",
       "      <th>TChol/HDL ratio</th>\n",
       "      <th>Age</th>\n",
       "      <th>BMI (Kg/m^2)</th>\n",
       "      <th>Systolic BP</th>\n",
       "      <th>Diastolic BP</th>\n",
       "      <th>waist (cm)</th>\n",
       "      <th>WHR</th>\n",
       "      <th>Gender_female</th>\n",
       "      <th>Gender_male</th>\n",
       "    </tr>\n",
       "  </thead>\n",
       "  <tbody>\n",
       "    <tr>\n",
       "      <th>0</th>\n",
       "      <td>193.0</td>\n",
       "      <td>77.0</td>\n",
       "      <td>49.0</td>\n",
       "      <td>3.9</td>\n",
       "      <td>19</td>\n",
       "      <td>22.88</td>\n",
       "      <td>118.0</td>\n",
       "      <td>70.0</td>\n",
       "      <td>81.3</td>\n",
       "      <td>0.84</td>\n",
       "      <td>1</td>\n",
       "      <td>0</td>\n",
       "    </tr>\n",
       "    <tr>\n",
       "      <th>1</th>\n",
       "      <td>146.0</td>\n",
       "      <td>79.0</td>\n",
       "      <td>41.0</td>\n",
       "      <td>3.6</td>\n",
       "      <td>19</td>\n",
       "      <td>42.61</td>\n",
       "      <td>108.0</td>\n",
       "      <td>58.0</td>\n",
       "      <td>83.8</td>\n",
       "      <td>0.82</td>\n",
       "      <td>1</td>\n",
       "      <td>0</td>\n",
       "    </tr>\n",
       "    <tr>\n",
       "      <th>2</th>\n",
       "      <td>217.0</td>\n",
       "      <td>75.0</td>\n",
       "      <td>54.0</td>\n",
       "      <td>4.0</td>\n",
       "      <td>20</td>\n",
       "      <td>40.13</td>\n",
       "      <td>110.0</td>\n",
       "      <td>72.0</td>\n",
       "      <td>101.6</td>\n",
       "      <td>0.89</td>\n",
       "      <td>1</td>\n",
       "      <td>0</td>\n",
       "    </tr>\n",
       "    <tr>\n",
       "      <th>3</th>\n",
       "      <td>226.0</td>\n",
       "      <td>97.0</td>\n",
       "      <td>70.0</td>\n",
       "      <td>3.2</td>\n",
       "      <td>20</td>\n",
       "      <td>20.44</td>\n",
       "      <td>122.0</td>\n",
       "      <td>64.0</td>\n",
       "      <td>78.7</td>\n",
       "      <td>0.79</td>\n",
       "      <td>1</td>\n",
       "      <td>0</td>\n",
       "    </tr>\n",
       "    <tr>\n",
       "      <th>4</th>\n",
       "      <td>164.0</td>\n",
       "      <td>91.0</td>\n",
       "      <td>67.0</td>\n",
       "      <td>2.4</td>\n",
       "      <td>20</td>\n",
       "      <td>26.28</td>\n",
       "      <td>122.0</td>\n",
       "      <td>86.0</td>\n",
       "      <td>81.3</td>\n",
       "      <td>0.82</td>\n",
       "      <td>1</td>\n",
       "      <td>0</td>\n",
       "    </tr>\n",
       "  </tbody>\n",
       "</table>\n",
       "</div>"
      ],
      "text/plain": [
       "    Cholesterol (mg/dl)  Glucose (mg/dl)  HDL Chol (mg/dl)  TChol/HDL ratio  \\\n",
       "0                 193.0             77.0              49.0              3.9   \n",
       "1                 146.0             79.0              41.0              3.6   \n",
       "2                 217.0             75.0              54.0              4.0   \n",
       "3                 226.0             97.0              70.0              3.2   \n",
       "4                 164.0             91.0              67.0              2.4   \n",
       "\n",
       "   Age  BMI (Kg/m^2)  Systolic BP  Diastolic BP  waist (cm)   WHR  \\\n",
       "0   19         22.88        118.0          70.0        81.3  0.84   \n",
       "1   19         42.61        108.0          58.0        83.8  0.82   \n",
       "2   20         40.13        110.0          72.0       101.6  0.89   \n",
       "3   20         20.44        122.0          64.0        78.7  0.79   \n",
       "4   20         26.28        122.0          86.0        81.3  0.82   \n",
       "\n",
       "   Gender_female  Gender_male  \n",
       "0              1            0  \n",
       "1              1            0  \n",
       "2              1            0  \n",
       "3              1            0  \n",
       "4              1            0  "
      ]
     },
     "execution_count": 43,
     "metadata": {},
     "output_type": "execute_result"
    }
   ],
   "source": [
    "X.head()"
   ]
  },
  {
   "cell_type": "markdown",
   "id": "4096493c-913e-45ba-8b01-d9cc6ad60d80",
   "metadata": {},
   "source": [
    "## Preprocessing the dataset"
   ]
  },
  {
   "cell_type": "code",
   "execution_count": 44,
   "id": "c80b6cdc-4b1e-43b8-9acf-34a58f167ff8",
   "metadata": {},
   "outputs": [],
   "source": [
    "sc = StandardScaler()\n",
    "X_scaled = sc.fit_transform(X.values)"
   ]
  },
  {
   "cell_type": "markdown",
   "id": "ddaea830-f84b-4fc3-85bd-ce00642011dd",
   "metadata": {},
   "source": [
    "## Creating train test splits"
   ]
  },
  {
   "cell_type": "code",
   "execution_count": 45,
   "id": "bb05f5b4-2324-4c5e-a388-86675ac841b3",
   "metadata": {},
   "outputs": [],
   "source": [
    "X_train, X_test, y_train, y_test = train_test_split(X_scaled, y, test_size=0.2, random_state=42)"
   ]
  },
  {
   "cell_type": "code",
   "execution_count": 46,
   "id": "67eeea82-dd9d-4797-8da7-ad26e680ed26",
   "metadata": {},
   "outputs": [
    {
     "data": {
      "text/plain": [
       "(385, 385, 97, 97)"
      ]
     },
     "execution_count": 46,
     "metadata": {},
     "output_type": "execute_result"
    }
   ],
   "source": [
    "len(X_train), len(y_train), len(X_test), len(y_test)"
   ]
  },
  {
   "cell_type": "markdown",
   "id": "c69f12be-eca7-4936-a028-e3027f4974b3",
   "metadata": {},
   "source": [
    "## Ensemble model"
   ]
  },
  {
   "cell_type": "code",
   "execution_count": 47,
   "id": "bc408d4f-9e00-479a-aa19-dfcbbc9e189c",
   "metadata": {},
   "outputs": [
    {
     "name": "stdout",
     "output_type": "stream",
     "text": [
      "Ensemble system accuracy: 0.8762886597938144\n"
     ]
    },
    {
     "name": "stderr",
     "output_type": "stream",
     "text": [
      "C:\\Users\\Chinmay\\anaconda3\\lib\\site-packages\\sklearn\\preprocessing\\_label.py:98: DataConversionWarning: A column-vector y was passed when a 1d array was expected. Please change the shape of y to (n_samples, ), for example using ravel().\n",
      "  y = column_or_1d(y, warn=True)\n",
      "C:\\Users\\Chinmay\\anaconda3\\lib\\site-packages\\sklearn\\preprocessing\\_label.py:133: DataConversionWarning: A column-vector y was passed when a 1d array was expected. Please change the shape of y to (n_samples, ), for example using ravel().\n",
      "  y = column_or_1d(y, warn=True)\n"
     ]
    }
   ],
   "source": [
    "dt = DecisionTreeClassifier(random_state=42)\n",
    "svm = SVC(random_state=42)\n",
    "lr = LogisticRegression(random_state=42)\n",
    "\n",
    "from sklearn.ensemble import VotingClassifier\n",
    "\n",
    "ensemble = VotingClassifier(estimators=[('dt', dt),\n",
    "                                        ('svm', svm),\n",
    "                                        ('lr', lr)], \n",
    "                           voting='hard')\n",
    "\n",
    "ensemble.fit(X_train, y_train)\n",
    "y_pred = ensemble.predict(X_test)\n",
    "\n",
    "accuracy = accuracy_score(y_test, y_pred)\n",
    "print('Ensemble system accuracy:', accuracy)"
   ]
  },
  {
   "cell_type": "code",
   "execution_count": 48,
   "id": "3c77998a-0696-47cf-936f-ad5ce628e12b",
   "metadata": {},
   "outputs": [
    {
     "name": "stdout",
     "output_type": "stream",
     "text": [
      "              precision    recall  f1-score   support\n",
      "\n",
      "           0       0.90      0.96      0.93        84\n",
      "           1       0.57      0.31      0.40        13\n",
      "\n",
      "    accuracy                           0.88        97\n",
      "   macro avg       0.74      0.64      0.67        97\n",
      "weighted avg       0.86      0.88      0.86        97\n",
      "\n"
     ]
    }
   ],
   "source": [
    "print(classification_report(y_test, y_pred))"
   ]
  },
  {
   "cell_type": "code",
   "execution_count": 49,
   "id": "1c2f1720-c83d-4849-8407-b22a0d3f8821",
   "metadata": {},
   "outputs": [
    {
     "data": {
      "text/plain": [
       "<sklearn.metrics._plot.confusion_matrix.ConfusionMatrixDisplay at 0x28741d623a0>"
      ]
     },
     "execution_count": 49,
     "metadata": {},
     "output_type": "execute_result"
    },
    {
     "data": {
      "text/plain": [
       "<Figure size 720x504 with 0 Axes>"
      ]
     },
     "metadata": {},
     "output_type": "display_data"
    },
    {
     "data": {
      "image/png": "[encoded data removed]",
      "text/plain": [
       "<Figure size 432x288 with 2 Axes>"
      ]
     },
     "metadata": {
      "needs_background": "light"
     },
     "output_type": "display_data"
    }
   ],
   "source": [
    "from sklearn.metrics import ConfusionMatrixDisplay\n",
    "cm = confusion_matrix(y_test, y_pred)\n",
    "plt.figure(figsize=(10,7))\n",
    "ConfusionMatrixDisplay(cm).plot()"
   ]
  },
  {
   "cell_type": "markdown",
   "id": "6ba80c44-e779-4d1c-8114-bcbf0187ead4",
   "metadata": {},
   "source": [
    "## Approach 2:\n",
    "\n",
    "- I also tried to predict the type 2 diabetes using PCA on the original dataset and found that the `Total Cholestrol` explanied the majority variance in the dataset.\n",
    "- Transforming the dataset using pca for **99%** explained variance and using the transformed data to predict the type 2 diabetes resulted in a better model for the given dataset."
   ]
  },
  {
   "cell_type": "code",
   "execution_count": 50,
   "id": "1cf217a6-994b-47a4-a954-331944703bd3",
   "metadata": {},
   "outputs": [],
   "source": [
    "from sklearn.decomposition import PCA"
   ]
  },
  {
   "cell_type": "code",
   "execution_count": 51,
   "id": "e7176622-313d-44dd-a2f1-6b912340e1d1",
   "metadata": {},
   "outputs": [],
   "source": [
    "df = pd.read_csv('./Diabetes_raw_dataset.csv')\n",
    "df = df.dropna()"
   ]
  },
  {
   "cell_type": "code",
   "execution_count": 52,
   "id": "6afc0bd0-290d-475d-9dee-6c9887e36a54",
   "metadata": {},
   "outputs": [
    {
     "data": {
      "text/plain": [
       "Patient number          0\n",
       " Cholesterol (mg/dl)    0\n",
       "Glucose (mg/dl)         0\n",
       "HDL Chol (mg/dl)        0\n",
       "TChol/HDL ratio         0\n",
       "Age                     0\n",
       "Gender                  0\n",
       "Height /stature (cm)    0\n",
       "weight1 (Kg)            0\n",
       "weight2(Kg)             0\n",
       "BMI (Kg/m^2)            0\n",
       "Systolic BP             0\n",
       "Diastolic BP            0\n",
       "waist (cm)              0\n",
       "hip (cm)                0\n",
       "Diabetes                0\n",
       "dtype: int64"
      ]
     },
     "execution_count": 52,
     "metadata": {},
     "output_type": "execute_result"
    }
   ],
   "source": [
    "df.isna().sum()"
   ]
  },
  {
   "cell_type": "code",
   "execution_count": 53,
   "id": "fcceba77-cf7a-4787-9696-34c5fd55461f",
   "metadata": {},
   "outputs": [
    {
     "data": {
      "text/plain": [
       "Index(['Patient number', ' Cholesterol (mg/dl)', 'Glucose (mg/dl)',\n",
       "       'HDL Chol (mg/dl)', 'TChol/HDL ratio', 'Age', 'Gender',\n",
       "       'Height /stature (cm)', 'weight1 (Kg)', 'weight2(Kg)', 'BMI (Kg/m^2)',\n",
       "       'Systolic BP', 'Diastolic BP', 'waist (cm)', 'hip (cm)', 'Diabetes'],\n",
       "      dtype='object')"
      ]
     },
     "execution_count": 53,
     "metadata": {},
     "output_type": "execute_result"
    }
   ],
   "source": [
    "df.columns"
   ]
  },
  {
   "cell_type": "code",
   "execution_count": 54,
   "id": "1f951c7a-bf31-4014-8f7f-cf9fb27002b1",
   "metadata": {},
   "outputs": [],
   "source": [
    "new_df = df[[' Cholesterol (mg/dl)', 'Glucose (mg/dl)',\n",
    "       'HDL Chol (mg/dl)', 'TChol/HDL ratio', 'Age', 'Gender',\n",
    "       'Height /stature (cm)', 'weight1 (Kg)', 'weight2(Kg)', 'BMI (Kg/m^2)',\n",
    "       'Systolic BP', 'Diastolic BP', 'waist (cm)', 'hip (cm)', 'Diabetes']]"
   ]
  },
  {
   "cell_type": "code",
   "execution_count": 55,
   "id": "f53bc770-2324-4c8a-9f6a-38a3db9b05a9",
   "metadata": {},
   "outputs": [],
   "source": [
    "new_df.loc[new_df['Diabetes'] == 'No diabetes', 'Diabetes'] = 0\n",
    "new_df.loc[new_df['Diabetes'] == 'Diabetes', 'Diabetes'] = 1"
   ]
  },
  {
   "cell_type": "code",
   "execution_count": 56,
   "id": "e9675c47-0b10-4dee-9e60-225e8906fcfe",
   "metadata": {},
   "outputs": [
    {
     "name": "stderr",
     "output_type": "stream",
     "text": [
      "C:\\Users\\Chinmay\\AppData\\Local\\Temp\\ipykernel_9864\\4034748898.py:1: SettingWithCopyWarning: \n",
      "A value is trying to be set on a copy of a slice from a DataFrame.\n",
      "Try using .loc[row_indexer,col_indexer] = value instead\n",
      "\n",
      "See the caveats in the documentation: https://pandas.pydata.org/pandas-docs/stable/user_guide/indexing.html#returning-a-view-versus-a-copy\n",
      "  new_df['Gender'] = [1 if x == 'male' else 0 for x in new_df['Gender']]\n"
     ]
    }
   ],
   "source": [
    "new_df['Gender'] = [1 if x == 'male' else 0 for x in new_df['Gender']]"
   ]
  },
  {
   "cell_type": "code",
   "execution_count": 57,
   "id": "7e8f9718-3b2a-4173-9cd2-3e77cb726242",
   "metadata": {},
   "outputs": [
    {
     "data": {
      "text/plain": [
       "Index([' Cholesterol (mg/dl)', 'Glucose (mg/dl)', 'HDL Chol (mg/dl)',\n",
       "       'TChol/HDL ratio', 'Age', 'Gender', 'Height /stature (cm)',\n",
       "       'weight1 (Kg)', 'weight2(Kg)', 'BMI (Kg/m^2)', 'Systolic BP',\n",
       "       'Diastolic BP', 'waist (cm)', 'hip (cm)', 'Diabetes'],\n",
       "      dtype='object')"
      ]
     },
     "execution_count": 57,
     "metadata": {},
     "output_type": "execute_result"
    }
   ],
   "source": [
    "new_df.columns"
   ]
  },
  {
   "cell_type": "code",
   "execution_count": 58,
   "id": "465c3d16-486a-4d82-8d40-e49ac2cf7d7b",
   "metadata": {},
   "outputs": [
    {
     "data": {
      "text/html": [
       "<div>\n",
       "<style scoped>\n",
       "    .dataframe tbody tr th:only-of-type {\n",
       "        vertical-align: middle;\n",
       "    }\n",
       "\n",
       "    .dataframe tbody tr th {\n",
       "        vertical-align: top;\n",
       "    }\n",
       "\n",
       "    .dataframe thead th {\n",
       "        text-align: right;\n",
       "    }\n",
       "</style>\n",
       "<table border=\"1\" class=\"dataframe\">\n",
       "  <thead>\n",
       "    <tr style=\"text-align: right;\">\n",
       "      <th></th>\n",
       "      <th>Cholesterol (mg/dl)</th>\n",
       "      <th>Glucose (mg/dl)</th>\n",
       "      <th>HDL Chol (mg/dl)</th>\n",
       "      <th>TChol/HDL ratio</th>\n",
       "      <th>Age</th>\n",
       "      <th>Gender</th>\n",
       "      <th>Height /stature (cm)</th>\n",
       "      <th>weight1 (Kg)</th>\n",
       "      <th>weight2(Kg)</th>\n",
       "      <th>BMI (Kg/m^2)</th>\n",
       "      <th>Systolic BP</th>\n",
       "      <th>Diastolic BP</th>\n",
       "      <th>waist (cm)</th>\n",
       "      <th>hip (cm)</th>\n",
       "      <th>Diabetes</th>\n",
       "    </tr>\n",
       "  </thead>\n",
       "  <tbody>\n",
       "    <tr>\n",
       "      <th>0</th>\n",
       "      <td>193.0</td>\n",
       "      <td>77.0</td>\n",
       "      <td>49.0</td>\n",
       "      <td>3.9</td>\n",
       "      <td>19</td>\n",
       "      <td>0</td>\n",
       "      <td>154.9</td>\n",
       "      <td>54.93</td>\n",
       "      <td>54</td>\n",
       "      <td>22.88</td>\n",
       "      <td>118.0</td>\n",
       "      <td>70.0</td>\n",
       "      <td>81.3</td>\n",
       "      <td>96.5</td>\n",
       "      <td>0</td>\n",
       "    </tr>\n",
       "    <tr>\n",
       "      <th>1</th>\n",
       "      <td>146.0</td>\n",
       "      <td>79.0</td>\n",
       "      <td>41.0</td>\n",
       "      <td>3.6</td>\n",
       "      <td>19</td>\n",
       "      <td>0</td>\n",
       "      <td>152.4</td>\n",
       "      <td>98.97</td>\n",
       "      <td>61</td>\n",
       "      <td>42.61</td>\n",
       "      <td>108.0</td>\n",
       "      <td>58.0</td>\n",
       "      <td>83.8</td>\n",
       "      <td>101.6</td>\n",
       "      <td>0</td>\n",
       "    </tr>\n",
       "    <tr>\n",
       "      <th>2</th>\n",
       "      <td>217.0</td>\n",
       "      <td>75.0</td>\n",
       "      <td>54.0</td>\n",
       "      <td>4.0</td>\n",
       "      <td>20</td>\n",
       "      <td>0</td>\n",
       "      <td>170.2</td>\n",
       "      <td>116.22</td>\n",
       "      <td>85</td>\n",
       "      <td>40.13</td>\n",
       "      <td>110.0</td>\n",
       "      <td>72.0</td>\n",
       "      <td>101.6</td>\n",
       "      <td>114.3</td>\n",
       "      <td>0</td>\n",
       "    </tr>\n",
       "    <tr>\n",
       "      <th>3</th>\n",
       "      <td>226.0</td>\n",
       "      <td>97.0</td>\n",
       "      <td>70.0</td>\n",
       "      <td>3.2</td>\n",
       "      <td>20</td>\n",
       "      <td>0</td>\n",
       "      <td>162.6</td>\n",
       "      <td>54.03</td>\n",
       "      <td>52</td>\n",
       "      <td>20.44</td>\n",
       "      <td>122.0</td>\n",
       "      <td>64.0</td>\n",
       "      <td>78.7</td>\n",
       "      <td>99.1</td>\n",
       "      <td>0</td>\n",
       "    </tr>\n",
       "    <tr>\n",
       "      <th>4</th>\n",
       "      <td>164.0</td>\n",
       "      <td>91.0</td>\n",
       "      <td>67.0</td>\n",
       "      <td>2.4</td>\n",
       "      <td>20</td>\n",
       "      <td>0</td>\n",
       "      <td>177.8</td>\n",
       "      <td>83.08</td>\n",
       "      <td>64</td>\n",
       "      <td>26.28</td>\n",
       "      <td>122.0</td>\n",
       "      <td>86.0</td>\n",
       "      <td>81.3</td>\n",
       "      <td>99.1</td>\n",
       "      <td>0</td>\n",
       "    </tr>\n",
       "  </tbody>\n",
       "</table>\n",
       "</div>"
      ],
      "text/plain": [
       "    Cholesterol (mg/dl)  Glucose (mg/dl)  HDL Chol (mg/dl)  TChol/HDL ratio  \\\n",
       "0                 193.0             77.0              49.0              3.9   \n",
       "1                 146.0             79.0              41.0              3.6   \n",
       "2                 217.0             75.0              54.0              4.0   \n",
       "3                 226.0             97.0              70.0              3.2   \n",
       "4                 164.0             91.0              67.0              2.4   \n",
       "\n",
       "   Age  Gender  Height /stature (cm)  weight1 (Kg)  weight2(Kg)  BMI (Kg/m^2)  \\\n",
       "0   19       0                 154.9         54.93           54         22.88   \n",
       "1   19       0                 152.4         98.97           61         42.61   \n",
       "2   20       0                 170.2        116.22           85         40.13   \n",
       "3   20       0                 162.6         54.03           52         20.44   \n",
       "4   20       0                 177.8         83.08           64         26.28   \n",
       "\n",
       "   Systolic BP  Diastolic BP  waist (cm)  hip (cm) Diabetes  \n",
       "0        118.0          70.0        81.3      96.5        0  \n",
       "1        108.0          58.0        83.8     101.6        0  \n",
       "2        110.0          72.0       101.6     114.3        0  \n",
       "3        122.0          64.0        78.7      99.1        0  \n",
       "4        122.0          86.0        81.3      99.1        0  "
      ]
     },
     "execution_count": 58,
     "metadata": {},
     "output_type": "execute_result"
    }
   ],
   "source": [
    "new_df.head()"
   ]
  },
  {
   "cell_type": "code",
   "execution_count": 59,
   "id": "a7e8d463-6087-497a-80a9-a2f6234374f0",
   "metadata": {},
   "outputs": [],
   "source": [
    "X = new_df[[' Cholesterol (mg/dl)', 'Glucose (mg/dl)', 'HDL Chol (mg/dl)',\n",
    "       'TChol/HDL ratio', 'Age', 'Gender', 'Height /stature (cm)',\n",
    "       'weight1 (Kg)', 'weight2(Kg)', 'BMI (Kg/m^2)', 'Systolic BP',\n",
    "       'Diastolic BP', 'waist (cm)', 'hip (cm)']]"
   ]
  },
  {
   "cell_type": "code",
   "execution_count": 60,
   "id": "07888726-8442-485f-b48f-7e4cd87372b1",
   "metadata": {},
   "outputs": [],
   "source": [
    "y = new_df['Diabetes']"
   ]
  },
  {
   "cell_type": "code",
   "execution_count": 61,
   "id": "9f0e8c40-5d8b-4b72-9077-27e1d66c8c1e",
   "metadata": {},
   "outputs": [],
   "source": [
    "y = y.astype('int')"
   ]
  },
  {
   "cell_type": "code",
   "execution_count": 62,
   "id": "3b56cb6d-d32c-4cad-b2f1-134870f6d726",
   "metadata": {},
   "outputs": [
    {
     "data": {
      "text/plain": [
       "(482, 14)"
      ]
     },
     "execution_count": 62,
     "metadata": {},
     "output_type": "execute_result"
    }
   ],
   "source": [
    "X.shape"
   ]
  },
  {
   "cell_type": "code",
   "execution_count": 63,
   "id": "4146cc3f-fe3c-49d2-8ba8-974633587d20",
   "metadata": {},
   "outputs": [
    {
     "data": {
      "text/plain": [
       "PCA(n_components=0.99)"
      ]
     },
     "execution_count": 63,
     "metadata": {},
     "output_type": "execute_result"
    }
   ],
   "source": [
    "pca = PCA(0.99) # 99 % explained variance\n",
    "pca.fit(X)"
   ]
  },
  {
   "cell_type": "code",
   "execution_count": 64,
   "id": "85af99be-bd0c-4281-a79f-7fa0dd633ed3",
   "metadata": {},
   "outputs": [
    {
     "data": {
      "text/plain": [
       "array([0.96003018, 0.01535145, 0.0127764 , 0.00415459])"
      ]
     },
     "execution_count": 64,
     "metadata": {},
     "output_type": "execute_result"
    }
   ],
   "source": [
    "pca.explained_variance_ratio_"
   ]
  },
  {
   "cell_type": "code",
   "execution_count": 65,
   "id": "510f8cdc-2902-4fc3-b80f-b275398248f1",
   "metadata": {},
   "outputs": [],
   "source": [
    "transformed_data = pca.transform(X)"
   ]
  },
  {
   "cell_type": "code",
   "execution_count": 66,
   "id": "1f9592d7-84d8-4095-95e6-e7da8eee9f4c",
   "metadata": {},
   "outputs": [],
   "source": [
    "X_train, X_test, y_train, y_test = train_test_split(transformed_data, y, test_size=0.2, random_state=42)"
   ]
  },
  {
   "cell_type": "code",
   "execution_count": 67,
   "id": "9c517335-652e-43f7-8a1c-cf727826cfa5",
   "metadata": {},
   "outputs": [
    {
     "name": "stdout",
     "output_type": "stream",
     "text": [
      "Ensemble system accuracy: 0.9278350515463918\n"
     ]
    }
   ],
   "source": [
    "dt = DecisionTreeClassifier(random_state=42)\n",
    "svm = SVC(random_state=42)\n",
    "lr = LogisticRegression(random_state=42)\n",
    "\n",
    "from sklearn.ensemble import VotingClassifier\n",
    "\n",
    "ensemble = VotingClassifier(estimators=[('dt', dt),\n",
    "                                        ('svm', svm),\n",
    "                                        ('lr', lr)], \n",
    "                           voting='hard')\n",
    "\n",
    "ensemble.fit(X_train, y_train)\n",
    "y_pred = ensemble.predict(X_test)\n",
    "\n",
    "accuracy = accuracy_score(y_test, y_pred)\n",
    "print('Ensemble system accuracy:', accuracy)"
   ]
  },
  {
   "cell_type": "code",
   "execution_count": 68,
   "id": "78129a60-e773-4220-8f9d-15148cf1e61b",
   "metadata": {},
   "outputs": [
    {
     "name": "stdout",
     "output_type": "stream",
     "text": [
      "              precision    recall  f1-score   support\n",
      "\n",
      "           0       0.93      0.99      0.96        84\n",
      "           1       0.88      0.54      0.67        13\n",
      "\n",
      "    accuracy                           0.93        97\n",
      "   macro avg       0.90      0.76      0.81        97\n",
      "weighted avg       0.92      0.93      0.92        97\n",
      "\n"
     ]
    }
   ],
   "source": [
    "print(classification_report(y_test, y_pred))"
   ]
  },
  {
   "cell_type": "code",
   "execution_count": 69,
   "id": "58764b4e-4cae-4d1b-98a1-d4a23a220406",
   "metadata": {},
   "outputs": [
    {
     "data": {
      "text/plain": [
       "<sklearn.metrics._plot.confusion_matrix.ConfusionMatrixDisplay at 0x2873d0af2e0>"
      ]
     },
     "execution_count": 69,
     "metadata": {},
     "output_type": "execute_result"
    },
    {
     "data": {
      "text/plain": [
       "<Figure size 720x504 with 0 Axes>"
      ]
     },
     "metadata": {},
     "output_type": "display_data"
    },
    {
     "data": {
      "image/png": "[encoded data removed]",
      "text/plain": [
       "<Figure size 432x288 with 2 Axes>"
      ]
     },
     "metadata": {
      "needs_background": "light"
     },
     "output_type": "display_data"
    }
   ],
   "source": [
    "from sklearn.metrics import ConfusionMatrixDisplay\n",
    "cm = confusion_matrix(y_test, y_pred)\n",
    "plt.figure(figsize=(10,7))\n",
    "ConfusionMatrixDisplay(cm).plot()"
   ]
  },
  {
   "cell_type": "markdown",
   "id": "b7ea8443-a7be-4141-933b-4441db8ae635",
   "metadata": {},
   "source": [
    "## Conclusion"
   ]
  },
  {
   "cell_type": "markdown",
   "id": "577b5efa-138c-4409-93ac-51de08cacd68",
   "metadata": {},
   "source": [
    "- For the task of predicting type-2 diabetes, I believe that it is important to follow the medical team's recommendations and investigate further attributes beyond just cleaning the dataset and choosing features based on their correlation with the dependent variable.\n",
    "\n",
    "- Medical experts have a deep understanding of the underlying biology and physiology of the disease, and the factors that are most indicative of the disease. They can provide valuable insights into which attributes are most important to consider, and how to interpret the results of the analysis.\n",
    "\n",
    "- In addition, it is important to consider the overall performance of the model, not just its performance on a single metric such as accuracy. A model that performs well for both well and at-risk persons is desirable. For example, a high accuracy may be achieved by a model that only predicts well persons as negative, but it would not be a good solution for the client as it would not identify at-risk persons.\n",
    "\n",
    "- In order to have an optimal solution, it is important to consider other metric like F1-score to evaluate the performance of the model. These metrics can provide a better understanding of how well the model is able to identify at-risk persons.\n",
    "\n",
    "- In summary, I believe that it is important to follow the medical team's recommendations, investigate further attributes, and evaluate the model's performance using multiple metrics to achieve a good solution for predicting type-2 diabetes."
   ]
  },
  {
   "cell_type": "code",
   "execution_count": null,
   "id": "3887778e-5cdd-4d2f-a271-e91a2f91ebef",
   "metadata": {},
   "outputs": [],
   "source": []
  }
 ],
 "metadata": {
  "kernelspec": {
   "display_name": "Python 3 (ipykernel)",
   "language": "python",
   "name": "python3"
  },
  "language_info": {
   "codemirror_mode": {
    "name": "ipython",
    "version": 3
   },
   "file_extension": ".py",
   "mimetype": "text/x-python",
   "name": "python",
   "nbconvert_exporter": "python",
   "pygments_lexer": "ipython3",
   "version": "3.9.12"
  }
 },
 "nbformat": 4,
 "nbformat_minor": 5
}
